{
 "cells": [
  {
   "cell_type": "markdown",
   "id": "8b4f1465-c8bd-40d9-b723-295a3de834f6",
   "metadata": {},
   "source": [
    "# Hadoop: Map-Reduce "
   ]
  },
  {
   "cell_type": "markdown",
   "id": "8fb892ef-cb04-4eb1-b1d2-a23063f94cb2",
   "metadata": {},
   "source": [
    "ПРИМЕЧАНИЕ: для этого блокнота вам следует запустить сервер с Hadoop (с YARN) и средой Spark."
   ]
  },
  {
   "cell_type": "markdown",
   "id": "0dce7b96-59a4-4333-ac1e-8e4c69c9131b",
   "metadata": {},
   "source": [
    "[Библиотека программного обеспечения Apache Hadoop](https://hadoop.apache.org/) — это фреймворк, который позволяет выполнять распределенную обработку больших наборов данных в кластерах компьютеров с использованием простых моделей программирования. Он разработан для масштабирования от отдельных серверов до тысяч машин, каждая из которых предлагает локальные вычисления и хранение. Вместо того, чтобы полагаться на оборудование для обеспечения высокой доступности, сама библиотека разработана для обнаружения и обработки сбоев на уровне приложений, тем самым предоставляя высокодоступный сервис поверх кластера компьютеров, каждый из которых может быть подвержен сбоям."
   ]
  },
  {
   "cell_type": "markdown",
   "id": "758a6736-fa64-4dec-a30b-4b8eed443419",
   "metadata": {},
   "source": [
    "Текущая установка включает следующие модули из экосистемы Hadoop:\n",
    "\n",
    "- __Hadoop Common:__ Общие утилиты, которые поддерживают другие модули Hadoop.\n",
    "- __Hadoop Distributed File System (HDFS™):__ Распределенная файловая система, которая обеспечивает высокопроизводительный доступ к данным приложений.\n",
    "- __Hadoop YARN:__ Фреймворк для планирования заданий и управления ресурсами кластера.\n",
    "- __Hadoop MapReduce:__ Система на основе YARN для параллельной обработки больших наборов данных.\n",
    "- __Spark™:__ Быстрый и универсальный вычислительный движок для данных Hadoop. Spark предоставляет простую и выразительную модель программирования, которая поддерживает широкий спектр приложений, включая ETL, машинное обучение, потоковую обработку и вычисление графов."
   ]
  },
  {
   "cell_type": "markdown",
   "id": "af068185-8cea-4d37-b731-6c47ad25483a",
   "metadata": {},
   "source": [
    "Псевдораспределенный режим (кластер с одним узлом)\n",
    "\n",
    "Hadoop также может быть запущен на одном узле в [псевдораспределенном режиме](https://hadoop.apache.org/docs/stable/hadoop-project-dist/hadoop-common/SingleCluster.html#Pseudo-Distributed_Operation), где каждый демон Hadoop работает в отдельном процессе Java.\n",
    "\n",
    "В псевдораспределенном режиме мы также используем только один узел, но главное, что кластер моделируется, что означает, что все процессы внутри кластера будут работать независимо друг от друга. Все демоны, которые являются Namenode, Datanode, Secondary Name node, Resource Manager, Node Manager и т. д., будут работать как отдельный процесс на отдельной JVM (виртуальной машине Java) или, можно сказать, работать на разных процессах Java, поэтому он называется псевдораспределенным."
   ]
  },
  {
   "cell_type": "markdown",
   "id": "78da3b81-3f3d-4add-8ef2-9a7a768c02e6",
   "metadata": {},
   "source": [
    "<b>ОЧЕНЬ ВАЖНОЕ ПРИМЕЧАНИЕ: экземпляр Hadoop, установленный в среде «Hadoop (с YARN) и Spark», был разработан только для образовательных целей и НЕ СОХРАНЯЕТ ДАННЫЕ после остановки сервера. Вы можете создавать или удалять файлы в файловой системе HDFS, записывать данные во время сеанса, но при следующем запуске сервера Jupyter будет чистая файловая система без данных.</b>"
   ]
  },
  {
   "cell_type": "code",
   "execution_count": 38,
   "id": "be9f3374-55b8-4a7c-961f-e42ef30b194a",
   "metadata": {},
   "outputs": [],
   "source": [
    "import os\n",
    "import re\n",
    "import json\n",
    "import socket\n",
    "import subprocess\n",
    "import pandas as pd\n",
    "from pyspark import SparkContext, SparkConf\n",
    "from pyspark.sql import SparkSession\n",
    "from pyspark.sql import utils as pu\n",
    "from pyspark.sql import functions as F\n",
    "from pyspark.sql import types as pt"
   ]
  },
  {
   "cell_type": "code",
   "execution_count": 39,
   "id": "8ccf53bf-f380-455f-996a-f326ec31ed19",
   "metadata": {},
   "outputs": [],
   "source": [
    "YARN_PORT = 8088\n",
    "\n",
    "# директория по умолчанию для пользователя `jovyan`\n",
    "WORK_DIR = '/jovyan'"
   ]
  },
  {
   "cell_type": "code",
   "execution_count": 40,
   "id": "458ac703-b481-4fbf-bdae-dfdcf65dd0f5",
   "metadata": {},
   "outputs": [],
   "source": [
    "def hdfs_dirs(path, filter_str=''):\n",
    "    \"\"\"\n",
    "    Возвращает файлы по указанному пути в виде списка. \n",
    "    Имена файлов можно фильтровать по параметру `filter_str`,\n",
    "    например, `filter_str='csv'` отобразит только файлы `csv`.\n",
    "    \n",
    "    \"\"\"\n",
    "    process = subprocess.Popen(\n",
    "        ['hdfs', 'dfs', '-ls', path], \n",
    "        stdout=subprocess.PIPE, \n",
    "        stderr=subprocess.PIPE\n",
    "    )\n",
    "    out, err = process.communicate()\n",
    "    dirs = out.decode('utf-8').split('\\n')\n",
    "    dirs = list(filter(lambda x: filter_str in x, dirs))\n",
    "    dirs = list(map(lambda x: x.split(' ')[-1], dirs))\n",
    "    return dirs\n",
    "\n",
    "def file_content(path):\n",
    "    \"\"\"\n",
    "    Возвращает содержимое файла.\n",
    "    Аналогично команде `cat`.\n",
    "    \n",
    "    \"\"\"\n",
    "    process = subprocess.Popen(\n",
    "        ['hdfs', 'dfs', '-cat', path], \n",
    "        stdout=subprocess.PIPE, \n",
    "        stderr=subprocess.PIPE\n",
    "    )\n",
    "    out, err = process.communicate()\n",
    "    return out.decode('unicode_escape')"
   ]
  },
  {
   "cell_type": "code",
   "execution_count": 41,
   "id": "d79854c2-cbfd-4ab3-8050-65195dfa3240",
   "metadata": {},
   "outputs": [
    {
     "name": "stdout",
     "output_type": "stream",
     "text": [
      "Found 4 items\n",
      "drwxr-xr-x   - hadoop supergroup           0 2025-03-20 07:00 /hbase\n",
      "drwxr-xr-x   - jovyan hadoopusers          0 2025-03-20 07:20 /jovyan\n",
      "drwxrwxrwx   - hadoop supergroup           0 2025-03-20 06:59 /tmp\n",
      "drwxr-xr-x   - jovyan hadoopusers          0 2025-03-20 07:00 /user\n"
     ]
    }
   ],
   "source": [
    "!hdfs dfs -ls /"
   ]
  },
  {
   "cell_type": "markdown",
   "id": "44cbe385-501d-43e7-bd51-024a5f61082d",
   "metadata": {},
   "source": [
    "Посмотрим, что лежит в рабочей директории"
   ]
  },
  {
   "cell_type": "code",
   "execution_count": 42,
   "id": "c2832c29-fad1-40d7-8fca-1a6efcafca9b",
   "metadata": {},
   "outputs": [
    {
     "name": "stdout",
     "output_type": "stream",
     "text": [
      "Found 1 items\n",
      "-rw-r--r--   1 jovyan hadoopusers   39030677 2025-03-20 07:20 /jovyan/aggrigation_logs_per_week.csv\n"
     ]
    }
   ],
   "source": [
    "!hdfs dfs -ls {WORK_DIR}"
   ]
  },
  {
   "cell_type": "markdown",
   "id": "d7185b9d-a4ab-4114-bc7d-1d9b275a484b",
   "metadata": {},
   "source": [
    "Здесь пусто. \n",
    "\n",
    "\n",
    "Скопируем файл с логами студентов на образовательном портале. "
   ]
  },
  {
   "cell_type": "code",
   "execution_count": 43,
   "id": "b5b408d4-93bf-47f5-b629-3b288b5acf45",
   "metadata": {},
   "outputs": [
    {
     "name": "stdout",
     "output_type": "stream",
     "text": [
      "put: `/jovyan/aggrigation_logs_per_week.csv': File exists\n"
     ]
    }
   ],
   "source": [
    "!hdfs dfs -put datasets/aggrigation_logs_per_week.csv {WORK_DIR}"
   ]
  },
  {
   "cell_type": "code",
   "execution_count": 57,
   "id": "9fcd1316-8261-4eee-9f4e-744bcc7fcea5",
   "metadata": {},
   "outputs": [
    {
     "name": "stdout",
     "output_type": "stream",
     "text": [
      "Found 1 items\n",
      "-rw-r--r--   1 jovyan hadoopusers   39030677 2025-03-20 07:20 /jovyan/aggrigation_logs_per_week.csv\n"
     ]
    }
   ],
   "source": [
    "!hdfs dfs -ls {WORK_DIR}"
   ]
  },
  {
   "cell_type": "markdown",
   "id": "78547df8-e56b-494c-83d6-1c167f5ae864",
   "metadata": {},
   "source": [
    "Вызовем фанкцию вывода списка файлов"
   ]
  },
  {
   "cell_type": "code",
   "execution_count": 45,
   "id": "879659cb-18d3-4d2f-82e6-e5903fac613f",
   "metadata": {},
   "outputs": [
    {
     "data": {
      "text/plain": [
       "['/jovyan/aggrigation_logs_per_week.csv']"
      ]
     },
     "execution_count": 45,
     "metadata": {},
     "output_type": "execute_result"
    }
   ],
   "source": [
    "hdfs_dirs(WORK_DIR, 'csv')"
   ]
  },
  {
   "cell_type": "markdown",
   "id": "92e08474-3c36-4a52-a0cb-196a704c550b",
   "metadata": {},
   "source": [
    "Выведем первые 100 символов. "
   ]
  },
  {
   "cell_type": "code",
   "execution_count": 46,
   "id": "df33ebd7-5dc4-4529-b930-bf562bfa021c",
   "metadata": {},
   "outputs": [
    {
     "data": {
      "text/plain": [
       "'courseid,userid,num_week,s_all,s_all_avg,s_course_viewed,s_course_viewed_avg,s_q_attempt_viewed,s_q_'"
      ]
     },
     "execution_count": 46,
     "metadata": {},
     "output_type": "execute_result"
    }
   ],
   "source": [
    "file_content ('/jovyan/aggrigation_logs_per_week.csv')[:100]"
   ]
  },
  {
   "cell_type": "markdown",
   "id": "87d2b4e5-ed45-4cc3-8f35-ce2b7384c41d",
   "metadata": {},
   "source": [
    "# Команда hdfs fsck\n",
    "\n",
    "hdfs fsck — это утилита для проверки целостности файлов и блоков в HDFS. Она позволяет выявить проблемы, такие как отсутствующие блоки, поврежденные данные или другие несоответствия.\n",
    "\n",
    "Аргументы: \n",
    "- files \n",
    "вывести информацию о файле, включая его размер, количество блоков и другие метаданные.\n",
    "\n",
    "- blocks\n",
    "добавляет информацию о блоках, из которых состоит файл. В HDFS файлы разбиваются на блоки (обычно размером 128 МБ или 256 МБ), которые распределяются по узлам кластера. Этот флаг покажет, сколько блоков занимает файл, их размеры и статус.\n",
    "\n",
    "- racks\n",
    "добавляет информацию о том, на каких стойках (racks) расположены блоки файла. В HDFS стойки используются для обеспечения отказоустойчивости и оптимизации производительности. Этот флаг покажет, как блоки распределены по стойкам в кластере."
   ]
  },
  {
   "cell_type": "code",
   "execution_count": 34,
   "id": "d13688ee-ad48-4aab-9b62-43838a718ff9",
   "metadata": {},
   "outputs": [
    {
     "name": "stderr",
     "output_type": "stream",
     "text": [
      "Connecting to namenode via http://0.0.0.0:9870/fsck?ugi=jovyan&files=1&blocks=1&racks=1&path=%2Fjovyan%2Faggrigation_logs_per_week.csv\n"
     ]
    },
    {
     "name": "stdout",
     "output_type": "stream",
     "text": [
      "FSCK started by jovyan (auth:SIMPLE) from /10.112.133.154 for path /jovyan/aggrigation_logs_per_week.csv at Thu Mar 20 10:56:28 UTC 2025\n",
      "\n",
      "/jovyan/aggrigation_logs_per_week.csv 39030677 bytes, replicated: replication=1, 1 block(s):  OK\n",
      "0. BP-900967270-10.112.133.154-1742453981847:blk_1073741844_1020 len=39030677 Live_repl=1  [/default-rack/10.112.133.154:9866]\n",
      "\n",
      "\n",
      "Status: HEALTHY\n",
      " Number of data-nodes:\t1\n",
      " Number of racks:\t\t1\n",
      " Total dirs:\t\t\t0\n",
      " Total symlinks:\t\t0\n",
      "\n",
      "Replicated Blocks:\n",
      " Total size:\t39030677 B\n",
      " Total files:\t1\n",
      " Total blocks (validated):\t1 (avg. block size 39030677 B)\n",
      " Minimally replicated blocks:\t1 (100.0 %)\n",
      " Over-replicated blocks:\t0 (0.0 %)\n",
      " Under-replicated blocks:\t0 (0.0 %)\n",
      " Mis-replicated blocks:\t\t0 (0.0 %)\n",
      " Default replication factor:\t1\n",
      " Average block replication:\t1.0\n",
      " Missing blocks:\t\t0\n",
      " Corrupt blocks:\t\t0\n",
      " Missing replicas:\t\t0 (0.0 %)\n",
      "\n",
      "Erasure Coded Block Groups:\n",
      " Total size:\t0 B\n",
      " Total files:\t0\n",
      " Total block groups (validated):\t0\n",
      " Minimally erasure-coded block groups:\t0\n",
      " Over-erasure-coded block groups:\t0\n",
      " Under-erasure-coded block groups:\t0\n",
      " Unsatisfactory placement block groups:\t0\n",
      " Average block group size:\t0.0\n",
      " Missing block groups:\t\t0\n",
      " Corrupt block groups:\t\t0\n",
      " Missing internal blocks:\t0\n",
      "FSCK ended at Thu Mar 20 10:56:28 UTC 2025 in 1 milliseconds\n",
      "\n",
      "\n",
      "The filesystem under path '/jovyan/aggrigation_logs_per_week.csv' is HEALTHY\n"
     ]
    }
   ],
   "source": [
    "%%bash\n",
    "hdfs fsck /jovyan/aggrigation_logs_per_week.csv -files -blocks -racks"
   ]
  },
  {
   "cell_type": "markdown",
   "id": "676111c8-ba26-4b06-8951-ab4ae6737e4d",
   "metadata": {},
   "source": [
    "# Пояснения к выводу\n",
    "Connecting to namenode via http://0.0.0.0:9870/fsck?ugi=jovyan&files=1&blocks=1&racks=1&path=%2Fjovyan%2Faggrigation_logs_per_week.csv\n",
    "FSCK started by jovyan (auth:SIMPLE) from /10.112.129.148 for path /jovyan/aggrigation_logs_per_week.csv at Mon Jan 27 11:39:52 UTC 2025\n",
    "\n",
    "/jovyan/aggrigation_logs_per_week.csv 39030677 bytes, replicated: replication=1, 1 block(s):  OK\n",
    "\n",
    "#### Размер файла: 39 030 677 байт (~37 МБ).\n",
    "#### Репликация: replication=1 (файл хранится только в одном экземпляре).\n",
    "#### Число блоков: 1 (весь файл помещён в один блок).\n",
    "#### Статус: OK (файл здоров).\n",
    "\n",
    "<i> 0. BP-433375171-10.112.129.148-1737977684764:blk_1073741837_1013 len=39030677 Live_repl=1  [/default-rack/10.112.129.148:9866]  </i>\n",
    "#### Информация о блоке:\n",
    "#### Идентификатор блока: blk_1073741837_1013.\n",
    "#### Длина блока: len=39030677 (совпадает с размером файла).\n",
    "#### Количество активных реплик: Live_repl=1 (блок доступен только на одном узле).\n",
    "#### Расположение блока: /default-rack/10.112.129.148:9866 (узел на rack'е default-rack).\n",
    "\n",
    "Status: HEALTHY\n",
    " Number of data-nodes:\t1\n",
    " Number of racks:\t\t1\n",
    " Total dirs:\t\t\t0\n",
    " Total symlinks:\t\t0\n",
    "\n",
    "#### HDFS работает с одним узлом хранения данных.\n",
    "#### Rack'ов (групп узлов) тоже один.\n",
    "\n"
   ]
  },
  {
   "cell_type": "markdown",
   "id": "1a8cddd2-bfd2-477f-829c-4bb8776660a1",
   "metadata": {},
   "source": [
    "# Команда hdfs dfs -setrep\n",
    "\n",
    "команда HDFS, которая изменяет фактор репликации (количество копий) для указанного файла или директории.\n",
    "\n",
    "Пример использования:\n",
    "```\n",
    "%%bash\n",
    "hdfs dfs -setrep -w 2 /jovyan/aggrigation_logs_per_week.csv\n",
    "```\n",
    "Аргументы команды:\n",
    "- -w\n",
    "Этот флаг указывает, что команда должна ожидать завершения процесса репликации. Без этого флага команда просто запустит процесс репликации в фоновом режиме.\n",
    "\n",
    "- 2\n",
    "Это новое значение фактора репликации. В данном случае файл будет иметь 2 копии (реплики) в HDFS.\n",
    "\n",
    "- /jovyan/aggrigation_logs_per_week.csv\n",
    "Это путь к файлу в HDFS, для которого изменяется фактор репликации.\n",
    "\n",
    "\n",
    "В нашей среде данная команда не сработает, поскольку у нас в наличие только одна DataNode."
   ]
  },
  {
   "cell_type": "code",
   "execution_count": 27,
   "id": "843ae0a8-bce8-4a7c-b95c-fd10350b03e2",
   "metadata": {},
   "outputs": [],
   "source": [
    "## Map-reduce"
   ]
  },
  {
   "cell_type": "markdown",
   "id": "c03bbcd5-a50e-4a5d-8b94-828d419684d2",
   "metadata": {},
   "source": [
    "Hadoop MapReduce — это программная среда для простого написания приложений, которые обрабатывают огромные объемы данных (многотерабайтные наборы данных) параллельно на больших кластерах (тысячи узлов) стандартного оборудования надежным и отказоустойчивым способом.\n",
    "\n",
    "Задание MapReduce обычно разбивает входной набор данных на независимые фрагменты, которые обрабатываются задачами <b>map</b> полностью параллельно. Среда сортирует выходные данные карт, которые затем вводятся в задачи <b>reduce</b>. Обычно и входные, и выходные данные задания хранятся в файловой системе. Среда занимается планированием задач, их мониторингом и повторно выполняет невыполненные задачи.\n",
    "\n",
    "Среда MapReduce работает исключительно с парами <ключ, значение>, то есть среда рассматривает входные данные задания как набор пар <ключ, значение> и создает набор пар <ключ, значение> в качестве выходных данных задания, предположительно разных типов.\n",
    "\n",
    "Типы входных и выходных данных задания MapReduce:\n",
    "```\n",
    "(вход) <k1, v1> -> map -> <k2, v2> -> combine -> <k2, v2> -> reduce -> <k3, v3> (выход)\n",
    "```\n",
    "\n",
    "Демонстрация для фреймворка MapReduce предназначена для хорошо известной задачи подсчета слов:\n",
    "\n",
    "![MapReduce](https://www.todaysoftmag.com/images/articles/tsm33/large/a11.png)"
   ]
  },
  {
   "cell_type": "markdown",
   "id": "42d40fe3-6981-4e1c-9691-03a382be25f5",
   "metadata": {},
   "source": [
    "# Задание 1: Подсчет количества записей для каждого курса (courseid)\n",
    "\n",
    "Цель: Научиться использовать MapReduce для подсчета количества записей для каждого курса.\n",
    "\n",
    "Ход выполнения:\n",
    "Map: Преобразуйте каждую строку в пару ключ-значение, где ключ — это courseid, а значение — 1.\n",
    "\n",
    "Reduce: Суммируйте значения для каждого ключа."
   ]
  },
  {
   "cell_type": "code",
   "execution_count": 32,
   "id": "ace8ca5c-864a-4eb6-9c57-616d3857620b",
   "metadata": {},
   "outputs": [],
   "source": [
    "class MRCourseCount:\n",
    "    def __init__(self, input_file, output_file):\n",
    "        self.input_file = input_file\n",
    "        self.output_file = output_file\n",
    "\n",
    "    def mapper(self, line):\n",
    "        fields = line.strip().split(',')\n",
    "        if len(fields) > 0:\n",
    "            courseid = fields[0]\n",
    "            yield courseid, 1\n",
    "\n",
    "    def reducer(self, courseid, counts):\n",
    "        yield courseid, sum(counts)\n",
    "\n",
    "    def run(self):\n",
    "        intermediate = {}\n",
    "        with open(self.input_file, 'r') as f:\n",
    "            next(f)  # Пропуск заголовка\n",
    "            for line in f:\n",
    "                for key, value in self.mapper(line):\n",
    "                    if key not in intermediate:\n",
    "                        intermediate[key] = []\n",
    "                    intermediate[key].append(value)\n",
    "\n",
    "        results = {}\n",
    "        for key, values in intermediate.items():\n",
    "            for result_key, result_value in self.reducer(key, values):\n",
    "                results[result_key] = result_value\n",
    "\n",
    "        # Запись результатов в файл\n",
    "        with open(self.output_file, 'w') as f:\n",
    "            for courseid, count in results.items():\n",
    "                f.write(f\"{courseid}: {count}\\n\")\n"
   ]
  },
  {
   "cell_type": "code",
   "execution_count": 62,
   "id": "92a58923-ad96-42c2-b925-0e80c7db7b97",
   "metadata": {},
   "outputs": [],
   "source": [
    "input_file = 'jovyan/aggrigation_logs_per_week.csv'\n",
    "output_file = \"jovyan/output.txt\"\n",
    "mr_job = MRCourseCount(input_file, output_file)\n",
    "mr_job.run()"
   ]
  },
  {
   "cell_type": "code",
   "execution_count": 53,
   "id": "44a05ce1-7204-4996-92f0-8a691dc5b665",
   "metadata": {},
   "outputs": [
    {
     "name": "stdout",
     "output_type": "stream",
     "text": [
      "hadoop\tjovyan\n"
     ]
    }
   ],
   "source": [
    "!ls "
   ]
  },
  {
   "cell_type": "markdown",
   "id": "4eda84de-dadd-4196-9604-e8558362398e",
   "metadata": {},
   "source": [
    "# Задание 2: Подсчет среднего значения s_all_avg для каждого курса\n",
    "С использованием MapReduce вычислить среднее значение  s_all_avg по каждому курсу.\n",
    "\n",
    "Ход выполнения:\n",
    "- Map: Преобразуйте каждую строку в пару ключ-значение, где ключ — это courseid, а значение — s_all_avg.\n",
    "\n",
    "- Reduce: Вычислите среднее значение для каждого курса.\n",
    "\n",
    "- Сохраните результаты вычисления в отдельный файл"
   ]
  },
  {
   "cell_type": "code",
   "execution_count": 63,
   "id": "a1f0e6ca-58b4-4fda-bfb3-3bc42bc4629e",
   "metadata": {},
   "outputs": [],
   "source": [
    "# ваш код"
   ]
  },
  {
   "cell_type": "markdown",
   "id": "ea9fd93e-c07e-4e87-bdc4-4d1273911292",
   "metadata": {},
   "source": [
    "# Задание 3: Подсчет количества уникальных пользователей (userid) для каждого курса\n",
    "\n",
    "Использовать MapReduce для подсчета уникальных значений.\n",
    "\n",
    "Ход выполнения:\n",
    "- Map: Преобразуйте каждую строку в пару ключ-значение, где ключ — это courseid, а значение — userid.\n",
    "\n",
    "- Reduce: Соберите уникальные userid для каждого курса и подсчитайте их количество.\n",
    "\n",
    "- Сохраните результаты вычисления в отдельный файл"
   ]
  },
  {
   "cell_type": "code",
   "execution_count": 64,
   "id": "c602d25f-5066-44e9-8864-52567d85b519",
   "metadata": {},
   "outputs": [],
   "source": [
    "# ваш код"
   ]
  },
  {
   "cell_type": "markdown",
   "id": "63473682-c286-4529-aeac-fc6f89bd4ade",
   "metadata": {},
   "source": [
    "# Задание 4: Запуск  MapReduce  в терминале\n",
    "\n",
    "Оформите полученный код из задания 3 в виде отдельного исполняющего файла mr_userid.py\n",
    "\n",
    "Зайдите в терминал и запустите файл mr_userid.py\n",
    "\n",
    "Например:\n",
    "```\n",
    "python untitled.py aggrigation_logs_per_week.csv\n",
    "```"
   ]
  },
  {
   "cell_type": "markdown",
   "id": "50db6e2b-a868-44f6-aaa3-3635f7298ff6",
   "metadata": {},
   "source": [
    "Файл  mr_userid.py сохраните в отдельной папке Task_6.MR\n"
   ]
  },
  {
   "cell_type": "markdown",
   "id": "f6dc2fa1-f57d-44c2-85ad-6087b495892f",
   "metadata": {},
   "source": [
    "================================================\n",
    "\n",
    "\n",
    "<b>В классической реализации MapReduce (например, в Hadoop) mapper и reducer выполняются как отдельные задачи (отдельные процессы или даже отдельные узлы в кластере). </b>\n",
    "\n",
    "Преимущества разделения на mapper и reducer:\n",
    "- Масштабируемость: Mapper и reducer могут выполняться на разных узлах кластера.\n",
    "\n",
    "- Гибкость: Можно использовать разные языки программирования для mapper и reducer.\n",
    "\n",
    "- Совместимость с Hadoop: Такой подход легко адаптировать для работы с Hadoop Streaming.\n",
    "\n",
    "Исправим данное упущение. "
   ]
  },
  {
   "cell_type": "markdown",
   "id": "1bc5af6a-f5a5-4c85-afc6-43caa2fd283a",
   "metadata": {},
   "source": [
    "## Шаг 1: Разделение кода на два файла\n",
    "Файл <b>mapper.py</b>\n",
    "Этот файл будет содержать логику mapper. Он будет читать входные данные и выдавать промежуточные пары ключ-значение.\n",
    "Например:\n",
    "```\n",
    "import sys\n",
    "\n",
    "def mapper():\n",
    "    for line in sys.stdin:\n",
    "        fields = line.strip().split(',')\n",
    "        if len(fields) > 1:  # Пропуск пустых строк\n",
    "            courseid = fields[0]\n",
    "            userid = fields[1]\n",
    "            print(f\"{courseid}\\t{userid}\")\n",
    "\n",
    "if __name__ == '__main__':\n",
    "    mapper()\n",
    "```\n",
    "\n",
    "Файл <b>reducer.py</b>\n",
    "Этот файл будет содержать логику reducer. Он будет читать промежуточные данные, группировать их по ключам и выполнять агрегацию.\n",
    "Например:\n",
    "```\n",
    "import sys\n",
    "from itertools import groupby\n",
    "from operator import itemgetter\n",
    "\n",
    "def reducer():\n",
    "    # Чтение данных из stdin и сортировка по ключу (courseid)\n",
    "    data = [line.strip().split('\\t') for line in sys.stdin]\n",
    "    data.sort(key=itemgetter(0))\n",
    "\n",
    "    # Группировка по courseid\n",
    "    for courseid, group in groupby(data, key=itemgetter(0)):\n",
    "        userids = set(userid for _, userid in group)\n",
    "        print(f\"{courseid}\\t{len(userids)}\")\n",
    "\n",
    "if __name__ == '__main__':\n",
    "    reducer()\n",
    "```\n"
   ]
  },
  {
   "cell_type": "markdown",
   "id": "f1daa4f5-f5b8-4c9e-8042-1708821ee132",
   "metadata": {},
   "source": [
    "## Шаг 2: Запуск mapper и reducer через конвейер\n",
    "Для запуска mapper и reducer как отдельных процессов можно использовать конвейер (pipe) в командной строке. Вот как это сделать:\n",
    "\n",
    "Запуск mapper и reducer через конвейер:\n",
    "\n",
    "```\n",
    "cat /jovyan/aggrigation_logs_per_week.csv | python3 mapper.py | sort | python3 reducer.py > output.txt\n",
    "```\n",
    "\n",
    "Здесь:\n",
    "\n",
    "- cat читает файл и передает его содержимое в mapper.py.\n",
    "\n",
    "- mapper.py обрабатывает данные и выводит промежуточные пары ключ-значение.\n",
    "\n",
    "- sort сортирует промежуточные данные по ключу (это важно для правильной работы reducer).\n",
    "\n",
    "- reducer.py обрабатывает отсортированные данные и записывает результат в output.txt."
   ]
  },
  {
   "cell_type": "markdown",
   "id": "f2fc520f-ec87-4848-984e-bb585e974cc1",
   "metadata": {},
   "source": [
    "Отметим, что при реализации запуска черер конвейер все данные обрабатываются на одной машине.\n",
    "\n",
    "Преимущества такого запуска:\n",
    "\n",
    "- Простота: Не требуется Hadoop или кластер.\n",
    "\n",
    "- Быстрый запуск: Подходит для локальной разработки и тестирования.\n",
    "\n",
    "- Легкость отладки: Легче отслеживать и исправлять ошибки.\n",
    "\n",
    "Недостатки:\n",
    "\n",
    "- Ограниченная масштабируемость: Все данные обрабатываются на одной машине, что не подходит для больших объемов данных.\n",
    "\n",
    "- Нет отказоустойчивости: Если процесс завершится с ошибкой, все вычисления нужно будет начать заново."
   ]
  },
  {
   "cell_type": "markdown",
   "id": "bbc583fe-6127-4f48-ae09-44631a2bef0f",
   "metadata": {},
   "source": [
    "# Задание 5: Выявление студентов с высоким риском отчисления\n",
    "Найти студентов с низкой активностью, кто может быть в группе риска.\n",
    "- Mapper:\n",
    "\n",
    "Для каждой строки данных извлекаем userid и s_all (общая активность студента).\n",
    "\n",
    "Выдаем пары (userid, s_all).\n",
    "\n",
    "- Reducer:\n",
    "\n",
    "Для каждого userid вычисляем среднее значение s_all (средняя активность студента). Вопрос: что не так в данном подходе? Предложите, как исправить упущение (если оно имеется), реализуйте его. \n",
    "\n",
    "Сортируем студентов по средней активности и выбираем топ-10 студентов с наименьшей активностью.\n",
    "\n",
    "Два файла сохранить в папке Task_6.MR и запустить через конвейер. "
   ]
  },
  {
   "cell_type": "markdown",
   "id": "d8e75351-0de5-47db-baba-46e95c4b0951",
   "metadata": {},
   "source": [
    "#  Запуск через Hadoop Streaming\n",
    "\n",
    "Hadoop Streaming — это утилита, которая позволяет запускать MapReduce-задачи с использованием любых исполняемых файлов (например, Python-скриптов) в качестве mapper и reducer.\n",
    "\n",
    "Она работает поверх Hadoop, что позволяет использовать распределенные вычисления на кластере.\n",
    "Преимущества запуска через Hadoop Streaming:\n",
    "\n",
    "- Масштабируемость: Hadoop распределяет данные и вычисления по множеству узлов, что позволяет обрабатывать огромные объемы данных.\n",
    "\n",
    "- Отказоустойчивость: Hadoop автоматически перезапускает задачи, если какой-то узел выходит из строя.\n",
    "\n",
    "- Интеграция с HDFS: Данные хранятся в HDFS, что обеспечивает высокую производительность и надежность.\n",
    "\n",
    "Недостатки:\n",
    "\n",
    "- Требуется настроенный Hadoop-кластер.\n",
    "\n",
    "- Более сложная настройка и запуск по сравнению с локальным подходом.\n",
    "\n",
    "Пример запуска:\n",
    "```\n",
    "hadoop jar $HADOOP_HOME/share/hadoop/tools/lib/hadoop-streaming-3.2.3.jar \\\n",
    "    -input /jovyan/aggrigation_logs_per_week.csv \\\n",
    "    -output /jovyan/output_stud \\\n",
    "    -mapper \"python3 mapper.py\" \\\n",
    "    -reducer \"python3 reducer.py\" \\\n",
    "    -file ./data/big_data_course/Task_6.MR/mapper.py \\\n",
    "    -file ./data/big_data_course/Task_6.MR/reducer.py\n",
    "\n",
    "```\n"
   ]
  },
  {
   "cell_type": "markdown",
   "id": "813da7b9-00e9-4011-a123-d0d23863a7d6",
   "metadata": {},
   "source": [
    "Обратите внимание, что файл с результатами reducer будет сохранен в директории, которую вы указали в параметре output, причем это выходная директория hdfs, что значит, что вы увидете данный файл не в локальной системе, а именно в hdfs.\n",
    "\n",
    "Найдем данный файл в hdfs:\n",
    "```\n",
    " hdfs dfs -ls -R /jovyan | grep \"output_stud\"\n",
    "```\n",
    "Пример результата поиска:\n",
    "```\n",
    "drwxr-xr-x   - jovyan hadoopusers          0 2025-03-20 14:56 /jovyan/output_stud\n",
    "-rw-r--r--   1 jovyan hadoopusers          0 2025-03-20 14:56 /jovyan/output_stud/_SUCCESS\n",
    "-rw-r--r--   1 jovyan hadoopusers       7823 2025-03-20 14:56 /jovyan/output_stud/part-00000\n",
    "```\n",
    "Внутри этой директории находятся файлы с результатами, такие как part-00000, part-00001 и т.д. _SUCCESS — пустой файл, который указывает на успешное завершение задачи. part-00000 — файл с результатами.\n",
    "\n",
    "\n",
    "Чтобы просмотреть содержимое файла с результатами, используйте команду:\n",
    "```\n",
    " hdfs dfs -cat /jovyan/output_stud/part-00000\n",
    "```"
   ]
  },
  {
   "cell_type": "markdown",
   "id": "dbce25ec-e2e9-4c72-a8d7-d6dd7561f9be",
   "metadata": {},
   "source": [
    "# Задание 6: Запуск MapReduce-задачи через Hadoop Streaming \n",
    "\n",
    "Подготовьте команду для запуска MapReduce-задачи через Hadoop Streaming из задания 5.\n",
    "\n",
    "В терминале проверьте, что задача выполняется успешно.\n",
    "\n",
    "Откройте полученный файл в hdfs.\n",
    "\n",
    "Бутьте готовы продемонстриротьва запуск преподавателю. "
   ]
  },
  {
   "cell_type": "code",
   "execution_count": null,
   "id": "804094ab-586a-4239-9498-fe5e6ce41859",
   "metadata": {},
   "outputs": [],
   "source": [
    "# Ваша команда запуска задачи"
   ]
  }
 ],
 "metadata": {
  "kernelspec": {
   "display_name": "Python 3 (ipykernel)",
   "language": "python",
   "name": "python3"
  },
  "language_info": {
   "codemirror_mode": {
    "name": "ipython",
    "version": 3
   },
   "file_extension": ".py",
   "mimetype": "text/x-python",
   "name": "python",
   "nbconvert_exporter": "python",
   "pygments_lexer": "ipython3",
   "version": "3.12.7"
  }
 },
 "nbformat": 4,
 "nbformat_minor": 5
}
