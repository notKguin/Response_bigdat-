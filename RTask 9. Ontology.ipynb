{
 "cells": [
  {
   "cell_type": "markdown",
   "id": "595ca376-ea0c-4eda-9b64-d45464251f49",
   "metadata": {},
   "source": [
    "## Онтологическое моделирование. Социальная сеть"
   ]
  },
  {
   "cell_type": "markdown",
   "id": "48f0907f-28bf-4989-a86a-9871a630e79d",
   "metadata": {},
   "source": [
    "Теоретический материал по построению онтологии представлен в ноутбуке в папке Task_9. Into/Example ontology.ipynb\n",
    "\n",
    "\n",
    "Создадим онтологию для социальной сети. \n",
    "\n",
    "Представим, что мы постепенно собираем данные с некоторой социальной сети и добавляем их в онтологию. После каждого изменения, мы обязательно проверяем, что все работает.\n",
    "\n",
    "Вам не нужно собирать данные, все данные есть в папке Task_9. Onto/data:\n",
    "\n",
    "- users.csv: пользователи соцсети.\n",
    "- posts.csv: посты (контент) с заголовками.\n",
    "- categories.csv: тематические классы (Fact, Opinion, FakeNews, Meme и т.д.).\n",
    "- publishes.csv: кто опубликовал какой пост.\n",
    "\n",
    "\n",
    "Пример онтологии: ИИ в социальных сетях\n",
    "\n",
    "🧱 Классы:\n",
    "- User — пользователь соцсети.\n",
    "- Post — публикация.\n",
    "- Category — базовая категория контента.\n",
    "- FakeNews, Opinion, Fact, Meme, Educational — подклассы категорий.\n",
    "\n",
    "🔗 Свойства:\n",
    "- has_published(User → Post)\n",
    "- has_title(Post)\n",
    "- has_category(Post → Category)\n",
    "\n",
    "🧍 Примеры пользователей:\n",
    "- alice публикует clickbait_ai_news и openai_announces_gpt5\n",
    "- bob публикует ai_is_dangerous, funny_ai_cat, how_neural_networks_work\n",
    "\n",
    "📌 Категории контента:\n",
    "- clickbait_ai_news — FakeNews\n",
    "- ai_is_dangerous — Opinion\n",
    "- openai_announces_gpt5 — Fact\n",
    "- funny_ai_cat — Meme\n",
    "\n"
   ]
  },
  {
   "cell_type": "code",
   "execution_count": 1,
   "id": "2b42c453-9312-42ac-a393-2005ba773658",
   "metadata": {},
   "outputs": [
    {
     "name": "stdout",
     "output_type": "stream",
     "text": [
      "Collecting owlready2\n",
      "  Downloading owlready2-0.48.tar.gz (27.3 MB)\n",
      "\u001b[2K     \u001b[90m━━━━━━━━━━━━━━━━━━━━━━━━━━━━━━━━━━━━━━━━\u001b[0m \u001b[32m27.3/27.3 MB\u001b[0m \u001b[31m32.3 MB/s\u001b[0m eta \u001b[36m0:00:00\u001b[0ma \u001b[36m0:00:01\u001b[0m\n",
      "\u001b[?25h  Installing build dependencies ... \u001b[?25ldone\n",
      "\u001b[?25h  Getting requirements to build wheel ... \u001b[?25ldone\n",
      "\u001b[?25h  Preparing metadata (pyproject.toml) ... \u001b[?25ldone\n",
      "\u001b[?25hCollecting rdflib\n",
      "  Downloading rdflib-7.1.4-py3-none-any.whl.metadata (11 kB)\n",
      "Collecting SPARQLWrapper\n",
      "  Downloading SPARQLWrapper-2.0.0-py3-none-any.whl.metadata (2.0 kB)\n",
      "Requirement already satisfied: pyparsing<4,>=2.1.0 in /opt/conda/lib/python3.12/site-packages (from rdflib) (3.2.0)\n",
      "Downloading rdflib-7.1.4-py3-none-any.whl (565 kB)\n",
      "\u001b[2K   \u001b[90m━━━━━━━━━━━━━━━━━━━━━━━━━━━━━━━━━━━━━━━\u001b[0m \u001b[32m565.1/565.1 kB\u001b[0m \u001b[31m561.7 MB/s\u001b[0m eta \u001b[36m0:00:00\u001b[0m\n",
      "\u001b[?25hDownloading SPARQLWrapper-2.0.0-py3-none-any.whl (28 kB)\n",
      "Building wheels for collected packages: owlready2\n",
      "  Building wheel for owlready2 (pyproject.toml) ... \u001b[?25ldone\n",
      "\u001b[?25h  Created wheel for owlready2: filename=owlready2-0.48-cp312-cp312-linux_x86_64.whl size=23882552 sha256=762d382257fa996b42384463ffe070e01ab24cbc0946dffc457ea37cd706847f\n",
      "  Stored in directory: /tmp/pip-ephem-wheel-cache-ngcdgvio/wheels/80/6b/6e/3a4fd869625821d573b27fc501b24fd715ab53ee483e981664\n",
      "Successfully built owlready2\n",
      "Installing collected packages: rdflib, owlready2, SPARQLWrapper\n",
      "Successfully installed SPARQLWrapper-2.0.0 owlready2-0.48 rdflib-7.1.4\n",
      "\n",
      "\u001b[1m[\u001b[0m\u001b[34;49mnotice\u001b[0m\u001b[1;39;49m]\u001b[0m\u001b[39;49m A new release of pip is available: \u001b[0m\u001b[31;49m25.0\u001b[0m\u001b[39;49m -> \u001b[0m\u001b[32;49m25.1.1\u001b[0m\n",
      "\u001b[1m[\u001b[0m\u001b[34;49mnotice\u001b[0m\u001b[1;39;49m]\u001b[0m\u001b[39;49m To update, run: \u001b[0m\u001b[32;49mpip install --upgrade pip\u001b[0m\n"
     ]
    }
   ],
   "source": [
    "# Установка необходимых библиотек\n",
    "!pip install --no-cache-dir owlready2 rdflib SPARQLWrapper"
   ]
  },
  {
   "cell_type": "code",
   "execution_count": 2,
   "id": "690f23a5-9664-41c7-97f0-0ce54e1eec8e",
   "metadata": {},
   "outputs": [],
   "source": [
    "from owlready2 import *\n",
    "import pandas as pd\n",
    "\n",
    "\n",
    "# Загружаем данные из CSV файлов\n",
    "users_df = pd.read_csv(\"Task_9.Onto/data/users.csv\")\n",
    "posts_df = pd.read_csv(\"Task_9.Onto/data/posts.csv\")\n",
    "categories_df = pd.read_csv(\"Task_9.Onto/data/categories.csv\")\n",
    "publishes_df = pd.read_csv(\"Task_9.Onto/data/publishes.csv\")\n"
   ]
  },
  {
   "cell_type": "code",
   "execution_count": 3,
   "id": "27db9252-40c4-41a7-bf30-0bd6c4101ef0",
   "metadata": {},
   "outputs": [
    {
     "data": {
      "text/html": [
       "<div>\n",
       "<style scoped>\n",
       "    .dataframe tbody tr th:only-of-type {\n",
       "        vertical-align: middle;\n",
       "    }\n",
       "\n",
       "    .dataframe tbody tr th {\n",
       "        vertical-align: top;\n",
       "    }\n",
       "\n",
       "    .dataframe thead th {\n",
       "        text-align: right;\n",
       "    }\n",
       "</style>\n",
       "<table border=\"1\" class=\"dataframe\">\n",
       "  <thead>\n",
       "    <tr style=\"text-align: right;\">\n",
       "      <th></th>\n",
       "      <th>id</th>\n",
       "      <th>name</th>\n",
       "    </tr>\n",
       "  </thead>\n",
       "  <tbody>\n",
       "    <tr>\n",
       "      <th>0</th>\n",
       "      <td>u1</td>\n",
       "      <td>Алексей</td>\n",
       "    </tr>\n",
       "    <tr>\n",
       "      <th>1</th>\n",
       "      <td>u2</td>\n",
       "      <td>Мария</td>\n",
       "    </tr>\n",
       "    <tr>\n",
       "      <th>2</th>\n",
       "      <td>u3</td>\n",
       "      <td>Иван</td>\n",
       "    </tr>\n",
       "    <tr>\n",
       "      <th>3</th>\n",
       "      <td>u4</td>\n",
       "      <td>Екатерина</td>\n",
       "    </tr>\n",
       "    <tr>\n",
       "      <th>4</th>\n",
       "      <td>u5</td>\n",
       "      <td>Николай</td>\n",
       "    </tr>\n",
       "    <tr>\n",
       "      <th>5</th>\n",
       "      <td>u6</td>\n",
       "      <td>Ольга</td>\n",
       "    </tr>\n",
       "    <tr>\n",
       "      <th>6</th>\n",
       "      <td>u7</td>\n",
       "      <td>Дмитрий</td>\n",
       "    </tr>\n",
       "    <tr>\n",
       "      <th>7</th>\n",
       "      <td>u8</td>\n",
       "      <td>Анастасия</td>\n",
       "    </tr>\n",
       "    <tr>\n",
       "      <th>8</th>\n",
       "      <td>u9</td>\n",
       "      <td>Сергей</td>\n",
       "    </tr>\n",
       "    <tr>\n",
       "      <th>9</th>\n",
       "      <td>u10</td>\n",
       "      <td>Елена</td>\n",
       "    </tr>\n",
       "    <tr>\n",
       "      <th>10</th>\n",
       "      <td>u11</td>\n",
       "      <td>Роман</td>\n",
       "    </tr>\n",
       "  </tbody>\n",
       "</table>\n",
       "</div>"
      ],
      "text/plain": [
       "     id       name\n",
       "0    u1    Алексей\n",
       "1    u2      Мария\n",
       "2    u3       Иван\n",
       "3    u4  Екатерина\n",
       "4    u5    Николай\n",
       "5    u6      Ольга\n",
       "6    u7    Дмитрий\n",
       "7    u8  Анастасия\n",
       "8    u9     Сергей\n",
       "9   u10      Елена\n",
       "10  u11      Роман"
      ]
     },
     "execution_count": 3,
     "metadata": {},
     "output_type": "execute_result"
    }
   ],
   "source": [
    "users_df"
   ]
  },
  {
   "cell_type": "code",
   "execution_count": 4,
   "id": "3b2cabb9-b093-4291-bc99-e6b2ee39b569",
   "metadata": {},
   "outputs": [
    {
     "data": {
      "text/html": [
       "<div>\n",
       "<style scoped>\n",
       "    .dataframe tbody tr th:only-of-type {\n",
       "        vertical-align: middle;\n",
       "    }\n",
       "\n",
       "    .dataframe tbody tr th {\n",
       "        vertical-align: top;\n",
       "    }\n",
       "\n",
       "    .dataframe thead th {\n",
       "        text-align: right;\n",
       "    }\n",
       "</style>\n",
       "<table border=\"1\" class=\"dataframe\">\n",
       "  <thead>\n",
       "    <tr style=\"text-align: right;\">\n",
       "      <th></th>\n",
       "      <th>id</th>\n",
       "      <th>title</th>\n",
       "    </tr>\n",
       "  </thead>\n",
       "  <tbody>\n",
       "    <tr>\n",
       "      <th>0</th>\n",
       "      <td>p1</td>\n",
       "      <td>Новый ИИ от OpenAI способен писать музыку</td>\n",
       "    </tr>\n",
       "    <tr>\n",
       "      <th>1</th>\n",
       "      <td>p2</td>\n",
       "      <td>Илон Маск планирует имплантировать чипы в мозг</td>\n",
       "    </tr>\n",
       "    <tr>\n",
       "      <th>2</th>\n",
       "      <td>p3</td>\n",
       "      <td>Почему стоит опасаться глубоких фейков</td>\n",
       "    </tr>\n",
       "    <tr>\n",
       "      <th>3</th>\n",
       "      <td>p4</td>\n",
       "      <td>ИИ ошибся и выдал фейковую новость</td>\n",
       "    </tr>\n",
       "    <tr>\n",
       "      <th>4</th>\n",
       "      <td>p5</td>\n",
       "      <td>ИИ улучшает качество фото с низким разрешением</td>\n",
       "    </tr>\n",
       "    <tr>\n",
       "      <th>5</th>\n",
       "      <td>p6</td>\n",
       "      <td>Советы по защите личных данных в соцсетях</td>\n",
       "    </tr>\n",
       "    <tr>\n",
       "      <th>6</th>\n",
       "      <td>p7</td>\n",
       "      <td>Мнение: будущее за гибридным интеллектом</td>\n",
       "    </tr>\n",
       "    <tr>\n",
       "      <th>7</th>\n",
       "      <td>p8</td>\n",
       "      <td>Факт: ИИ уже используется в медицинской диагно...</td>\n",
       "    </tr>\n",
       "    <tr>\n",
       "      <th>8</th>\n",
       "      <td>p9</td>\n",
       "      <td>Ироничный мем про ИИ и роботов</td>\n",
       "    </tr>\n",
       "    <tr>\n",
       "      <th>9</th>\n",
       "      <td>p10</td>\n",
       "      <td>Новости: ИИ победил чемпиона по го</td>\n",
       "    </tr>\n",
       "    <tr>\n",
       "      <th>10</th>\n",
       "      <td>p11</td>\n",
       "      <td>Мнение: роботы не заменят людей</td>\n",
       "    </tr>\n",
       "  </tbody>\n",
       "</table>\n",
       "</div>"
      ],
      "text/plain": [
       "     id                                              title\n",
       "0    p1          Новый ИИ от OpenAI способен писать музыку\n",
       "1    p2     Илон Маск планирует имплантировать чипы в мозг\n",
       "2    p3             Почему стоит опасаться глубоких фейков\n",
       "3    p4                 ИИ ошибся и выдал фейковую новость\n",
       "4    p5     ИИ улучшает качество фото с низким разрешением\n",
       "5    p6          Советы по защите личных данных в соцсетях\n",
       "6    p7           Мнение: будущее за гибридным интеллектом\n",
       "7    p8  Факт: ИИ уже используется в медицинской диагно...\n",
       "8    p9                     Ироничный мем про ИИ и роботов\n",
       "9   p10                 Новости: ИИ победил чемпиона по го\n",
       "10  p11                    Мнение: роботы не заменят людей"
      ]
     },
     "execution_count": 4,
     "metadata": {},
     "output_type": "execute_result"
    }
   ],
   "source": [
    "posts_df "
   ]
  },
  {
   "cell_type": "markdown",
   "id": "2fe03662-ff9b-4fd5-a8a5-3ca42615e8a7",
   "metadata": {},
   "source": [
    "# Итерация 1"
   ]
  },
  {
   "cell_type": "markdown",
   "id": "6f259b31-66c6-430b-b09a-5f15bac27b13",
   "metadata": {},
   "source": [
    "## Задание 1: Создайте онтологию для двух классов\n",
    "\n",
    "Для создания концептов используйте файлы: \n",
    "- posts.csv (содержит: id, title) -> класс Post\n",
    "- users.csv (содержит: id, name) -> класс User\n",
    "\n",
    "Для создания отношений используйте файл publishers.csv (содержит: user_id, post_id — кто опубликовал пост):\n",
    "- объектное свойство \"опубликовал\" (has_published) между User и Post\n",
    "- для Post свойство-значение \"имеет заголовок\" (has_title) строкового типа\n",
    "- для User свойство-значение \"имеет имя\" (has_name) строкового типа"
   ]
  },
  {
   "cell_type": "code",
   "execution_count": 5,
   "id": "19624c3f-156a-4549-8dbe-6a95732bbae8",
   "metadata": {},
   "outputs": [],
   "source": [
    "onto = get_ontology(\"http://example.org/social_ai.owl\")"
   ]
  },
  {
   "cell_type": "code",
   "execution_count": 6,
   "id": "fc347799-075a-4864-99c5-e85c185b2355",
   "metadata": {},
   "outputs": [],
   "source": [
    "with onto:\n",
    "    # Определяем классы\n",
    "    class User(Thing):\n",
    "        pass\n",
    "    \n",
    "    class Post(Thing):\n",
    "        pass\n",
    "    \n",
    "    # Определяем свойства\n",
    "    class has_published(ObjectProperty):\n",
    "        domain = [User]\n",
    "        range = [Post]\n",
    "    \n",
    "    class has_name(DataProperty):\n",
    "        domain = [User]\n",
    "        range = [str]\n",
    "    \n",
    "    class has_title(DataProperty):\n",
    "        domain = [Post]\n",
    "        range = [str]"
   ]
  },
  {
   "cell_type": "markdown",
   "id": "315ab93a-5234-4c9c-9465-795a320bc680",
   "metadata": {},
   "source": [
    "## Задание 2: Создайте экземпляры пользователей\n",
    "Создайте всех пользователей на основе User из набора данных users_df.\n",
    "\n",
    "Передайте доступные свойства для экземпляров. "
   ]
  },
  {
   "cell_type": "code",
   "execution_count": 7,
   "id": "37b1911c-3fce-4f79-8995-80b5a8b2f9eb",
   "metadata": {},
   "outputs": [],
   "source": [
    "# Загружаем данные\n",
    "users_df = pd.read_csv(\"Task_9.Onto/data/users.csv\")\n",
    "\n",
    "with onto:\n",
    "    # Создаем экземпляры пользователей\n",
    "    for index, row in users_df.iterrows():\n",
    "        user = onto.User(row['id'])\n",
    "        user.has_name = [row['name']]"
   ]
  },
  {
   "cell_type": "markdown",
   "id": "db1ba0d4-e18f-493d-87b8-b0758f9ef0a8",
   "metadata": {},
   "source": [
    "## Задание 3: Создайте экземпляры постов\n",
    "Создайте все посты на основе Post из набора данных posts_df.\n",
    "\n",
    "Передайте доступные свойства для экземпляров. "
   ]
  },
  {
   "cell_type": "code",
   "execution_count": 8,
   "id": "a211de5c-4f49-4808-b47e-a1d06859cc85",
   "metadata": {},
   "outputs": [],
   "source": [
    "# Загружаем данные\n",
    "posts_df = pd.read_csv(\"Task_9.Onto/data/posts.csv\")\n",
    "\n",
    "with onto:\n",
    "    # Создаем экземпляры постов\n",
    "    for index, row in posts_df.iterrows():\n",
    "        post = onto.Post(row['id'])\n",
    "        post.has_title = [row['title']]"
   ]
  },
  {
   "cell_type": "markdown",
   "id": "94f736b5-e28d-4de2-8372-3c1a7e5e5a03",
   "metadata": {},
   "source": [
    "## Задание 4: Создайте связи с помощью отношения  has_published между пользователями и постами"
   ]
  },
  {
   "cell_type": "code",
   "execution_count": 9,
   "id": "cd92d6fa-ce24-4a38-9bb5-82f73a72c297",
   "metadata": {},
   "outputs": [],
   "source": [
    "# Загружаем данные\n",
    "publishes_df = pd.read_csv(\"Task_9.Onto/data/publishes.csv\")\n",
    "\n",
    "with onto:\n",
    "    # Создаем связи has_published\n",
    "    for index, row in publishes_df.iterrows():\n",
    "        user = onto[row['user_id']]\n",
    "        post = onto[row['post_id']]\n",
    "        user.has_published.append(post)"
   ]
  },
  {
   "cell_type": "markdown",
   "id": "ad6fcbf8-6d7e-4755-9844-0608168d0d00",
   "metadata": {},
   "source": [
    "## Задание 5: Проверка онтологии\n",
    "\n",
    "Проверьте все ли работает. Выведите для каждого пользователя название опубликованного  им поста. "
   ]
  },
  {
   "cell_type": "code",
   "execution_count": 10,
   "id": "c4557642-fbac-405e-ae7a-3836dbc2facc",
   "metadata": {},
   "outputs": [
    {
     "name": "stdout",
     "output_type": "stream",
     "text": [
      "Пользователь: Алексей\n",
      "  Опубликовал пост: Новый ИИ от OpenAI способен писать музыку\n",
      "Пользователь: Мария\n",
      "  Опубликовал пост: Илон Маск планирует имплантировать чипы в мозг\n",
      "Пользователь: Иван\n",
      "  Опубликовал пост: Почему стоит опасаться глубоких фейков\n",
      "Пользователь: Екатерина\n",
      "  Опубликовал пост: ИИ ошибся и выдал фейковую новость\n",
      "Пользователь: Николай\n",
      "  Опубликовал пост: ИИ улучшает качество фото с низким разрешением\n",
      "Пользователь: Ольга\n",
      "  Опубликовал пост: Советы по защите личных данных в соцсетях\n",
      "Пользователь: Дмитрий\n",
      "  Опубликовал пост: Мнение: будущее за гибридным интеллектом\n",
      "Пользователь: Анастасия\n",
      "  Опубликовал пост: Факт: ИИ уже используется в медицинской диагностике\n",
      "Пользователь: Сергей\n",
      "  Опубликовал пост: Ироничный мем про ИИ и роботов\n",
      "Пользователь: Елена\n",
      "  Опубликовал пост: Новости: ИИ победил чемпиона по го\n",
      "Пользователь: Роман\n",
      "  Опубликовал пост: Мнение: роботы не заменят людей\n"
     ]
    }
   ],
   "source": [
    "# Выводим информацию\n",
    "for user in onto.User.instances():\n",
    "    print(f\"Пользователь: {user.has_name[0]}\")\n",
    "    for post in user.has_published:\n",
    "        print(f\"  Опубликовал пост: {post.has_title[0]}\")"
   ]
  },
  {
   "cell_type": "markdown",
   "id": "59379c9e-4c09-4d6b-acbb-b16794482fa3",
   "metadata": {},
   "source": [
    "# Итерация 2"
   ]
  },
  {
   "cell_type": "markdown",
   "id": "96c6cdeb-ed1e-4627-980a-74342c0bf44d",
   "metadata": {},
   "source": [
    "## Задание 6: Добавьте новый концепт в существующую онтологию\n",
    "\n",
    "Добавьте класс Category в уже существующую онтологию"
   ]
  },
  {
   "cell_type": "code",
   "execution_count": 11,
   "id": "9f21db9f-a097-40be-884c-77bc7bf6678a",
   "metadata": {},
   "outputs": [],
   "source": [
    "with onto:\n",
    "    # Определяем класс Category\n",
    "    class Category(Thing):\n",
    "        pass"
   ]
  },
  {
   "cell_type": "markdown",
   "id": "d8f0dcef-1ba8-44f5-adc1-a31165bd8f86",
   "metadata": {},
   "source": [
    "## Задание 7: Добавьте свойства и связи\n",
    "\n",
    "После добавления класса Category добавьте объектное свойство has_category для связи постов с категориями."
   ]
  },
  {
   "cell_type": "code",
   "execution_count": 12,
   "id": "56c73634-2b94-4856-bea7-f5e542137c4c",
   "metadata": {},
   "outputs": [],
   "source": [
    "with onto:\n",
    "    # Определяем свойство has_category\n",
    "    class has_category(ObjectProperty):\n",
    "        domain = [Post]\n",
    "        range = [Category]"
   ]
  },
  {
   "cell_type": "markdown",
   "id": "46ed74a1-14a3-44a0-bdc0-2882340d1a3a",
   "metadata": {},
   "source": [
    "## Задание 8: Создайте экземпляры категорий \n",
    "\n",
    "Создайте экземпляяры категорий и реализуйте связь между постами и категориями"
   ]
  },
  {
   "cell_type": "code",
   "execution_count": 13,
   "id": "7f5bb403-5be2-4bf8-b5c3-167e5263fad1",
   "metadata": {},
   "outputs": [],
   "source": [
    "# Загружаем данные\n",
    "categories_df = pd.read_csv(\"Task_9.Onto/data/categories.csv\")\n",
    "\n",
    "with onto:\n",
    "    # Создаем экземпляры категорий\n",
    "    unique_categories = categories_df['category'].unique()\n",
    "    for category_name in unique_categories:\n",
    "        onto.Category(category_name)\n",
    "    \n",
    "    # Связываем посты с категориями\n",
    "    for index, row in categories_df.iterrows():\n",
    "        post = onto[row['post_id']]\n",
    "        category = onto[row['category']]\n",
    "        post.has_category.append(category)"
   ]
  },
  {
   "cell_type": "markdown",
   "id": "be8769d7-1709-49c8-a9c5-4bdd3dfb2bc0",
   "metadata": {},
   "source": [
    "## Задание 9: Проверка онтологии\n",
    "\n",
    "Проверьте все ли работает. Выведите для каждого пользователя название опубликованного  им поста с указанием к какой катеригории этот пост относится.\n",
    "Примечание. Для каждого поста должна быть выведена только одна категория, без повторов"
   ]
  },
  {
   "cell_type": "code",
   "execution_count": 14,
   "id": "27af6d66-bae1-4445-ab99-5ec569ca63f4",
   "metadata": {},
   "outputs": [
    {
     "name": "stdout",
     "output_type": "stream",
     "text": [
      "Пользователь: Алексей\n",
      "  Пост: Новый ИИ от OpenAI способен писать музыку, Категория: Fact\n",
      "Пользователь: Мария\n",
      "  Пост: Илон Маск планирует имплантировать чипы в мозг, Категория: Fact\n",
      "Пользователь: Иван\n",
      "  Пост: Почему стоит опасаться глубоких фейков, Категория: Opinion\n",
      "Пользователь: Екатерина\n",
      "  Пост: ИИ ошибся и выдал фейковую новость, Категория: FakeNews\n",
      "Пользователь: Николай\n",
      "  Пост: ИИ улучшает качество фото с низким разрешением, Категория: Fact\n",
      "Пользователь: Ольга\n",
      "  Пост: Советы по защите личных данных в соцсетях, Категория: Opinion\n",
      "Пользователь: Дмитрий\n",
      "  Пост: Мнение: будущее за гибридным интеллектом, Категория: Opinion\n",
      "Пользователь: Анастасия\n",
      "  Пост: Факт: ИИ уже используется в медицинской диагностике, Категория: Fact\n",
      "Пользователь: Сергей\n",
      "  Пост: Ироничный мем про ИИ и роботов, Категория: Meme\n",
      "Пользователь: Елена\n",
      "  Пост: Новости: ИИ победил чемпиона по го, Категория: Fact\n",
      "Пользователь: Роман\n",
      "  Пост: Мнение: роботы не заменят людей, Категория: Opinion\n"
     ]
    }
   ],
   "source": [
    "# Выводим информацию\n",
    "for user in onto.User.instances():\n",
    "    print(f\"Пользователь: {user.has_name[0]}\")\n",
    "    for post in user.has_published:\n",
    "        category = post.has_category[0] if post.has_category else \"Без категории\"\n",
    "        print(f\"  Пост: {post.has_title[0]}, Категория: {category.name}\")"
   ]
  },
  {
   "cell_type": "markdown",
   "id": "f1b1c262-2ffa-4633-aab8-871e22d89eb2",
   "metadata": {},
   "source": [
    "## Задание 10: Создание аксиомы\n",
    "\n",
    "Для данной онтологии, которая представляет посты пользователей в социальных сетях, можно добавить аксиому, которая будет утверждать, что <b>\"Каждый пост, опубликованный пользователем, имеет хотя бы одну категорию\"</b>. Это гарантирует, что все посты будут связаны с какой-то категорией.\n",
    "\n",
    "Чтобы выразить это в OWL-формате, можно создать аксиому, которая будет связывать посты с категорией через свойство has_category. Также необходимо избегать повторов. "
   ]
  },
  {
   "cell_type": "code",
   "execution_count": 15,
   "id": "274c1c47-308b-4f8b-94d3-eeb1f1e73dcc",
   "metadata": {},
   "outputs": [],
   "source": [
    "with onto:\n",
    "    # Добавляем аксиому: каждый пост должен иметь хотя бы одну категорию\n",
    "    class Post(Thing):\n",
    "        equivalent_to = [Thing & has_category.some(Category)]"
   ]
  },
  {
   "cell_type": "markdown",
   "id": "64f02fff-dfb3-4742-ae75-e2411e74bcaf",
   "metadata": {},
   "source": [
    "## Задание 11: Проверка онтологии\n",
    "\n",
    "Проверьте, что аксиома работает -> для каждого поста проверяется, что он имеет категорию и выводится название самой категории. "
   ]
  },
  {
   "cell_type": "code",
   "execution_count": 16,
   "id": "dc208374-f68d-4cf1-b5c6-912bac669f57",
   "metadata": {},
   "outputs": [
    {
     "name": "stdout",
     "output_type": "stream",
     "text": [
      "Пост: Новый ИИ от OpenAI способен писать музыку, Категория: Fact\n",
      "Пост: Илон Маск планирует имплантировать чипы в мозг, Категория: Fact\n",
      "Пост: Почему стоит опасаться глубоких фейков, Категория: Opinion\n",
      "Пост: ИИ ошибся и выдал фейковую новость, Категория: FakeNews\n",
      "Пост: ИИ улучшает качество фото с низким разрешением, Категория: Fact\n",
      "Пост: Советы по защите личных данных в соцсетях, Категория: Opinion\n",
      "Пост: Мнение: будущее за гибридным интеллектом, Категория: Opinion\n",
      "Пост: Факт: ИИ уже используется в медицинской диагностике, Категория: Fact\n",
      "Пост: Ироничный мем про ИИ и роботов, Категория: Meme\n",
      "Пост: Новости: ИИ победил чемпиона по го, Категория: Fact\n",
      "Пост: Мнение: роботы не заменят людей, Категория: Opinion\n"
     ]
    }
   ],
   "source": [
    "# Проверяем посты и их категории\n",
    "for post in onto.Post.instances():\n",
    "    category = post.has_category[0] if post.has_category else \"Без категории\"\n",
    "    print(f\"Пост: {post.has_title[0]}, Категория: {category.name}\")"
   ]
  },
  {
   "cell_type": "markdown",
   "id": "64bab531-5026-42cf-8164-eec1eacf6c92",
   "metadata": {},
   "source": [
    "# Итерация 3"
   ]
  },
  {
   "cell_type": "markdown",
   "id": "7f9af69f-3db9-45f3-8f43-ed887d47728c",
   "metadata": {},
   "source": [
    "## Задание 12: Создание подкласса для FakeNews\n",
    "\n",
    "Создайте потомка FakeNewsPost для класса Post"
   ]
  },
  {
   "cell_type": "code",
   "execution_count": 17,
   "id": "aed07424-f92f-45e4-a030-b0a17e4fdb57",
   "metadata": {},
   "outputs": [],
   "source": [
    "with onto:\n",
    "    # Определяем подкласс FakeNewsPost\n",
    "    class FakeNewsPost(Post):\n",
    "        pass"
   ]
  },
  {
   "cell_type": "markdown",
   "id": "5559fbfe-b24a-4a2a-bb37-bbff0fd270b1",
   "metadata": {},
   "source": [
    "## Задание 13: Применение подкласса к постам с категорией 'FakeNews'\n",
    "\n",
    "Если категория поста - 'FakeNews', то сделайте его экземпляром FakeNewsPost"
   ]
  },
  {
   "cell_type": "code",
   "execution_count": 18,
   "id": "e6a36180-bc99-4719-b990-42312d2e35c6",
   "metadata": {},
   "outputs": [],
   "source": [
    "# Загружаем данные\n",
    "categories_df = pd.read_csv(\"Task_9.Onto/data/categories.csv\")\n",
    "\n",
    "with onto:\n",
    "    # Присваиваем тип FakeNewsPost постам с категорией FakeNews\n",
    "    for index, row in categories_df.iterrows():\n",
    "        if row['category'] == 'FakeNews':\n",
    "            post = onto[row['post_id']]\n",
    "            post.is_a.append(onto.FakeNewsPost)"
   ]
  },
  {
   "cell_type": "markdown",
   "id": "678ced13-8328-46fb-84dd-a1f5d693300e",
   "metadata": {},
   "source": [
    "## Задание 14: Проверка онтологии\n",
    "\n",
    "Выполните проверку -  есть ли посты типа FakeNewsPost, если есть, то выведите их названия (title)\n"
   ]
  },
  {
   "cell_type": "code",
   "execution_count": 19,
   "id": "dbc6f135-2165-46a5-af11-337afea1397f",
   "metadata": {},
   "outputs": [
    {
     "name": "stdout",
     "output_type": "stream",
     "text": [
      "FakeNewsPost: ИИ ошибся и выдал фейковую новость\n"
     ]
    }
   ],
   "source": [
    "# Проверяем посты типа FakeNewsPost\n",
    "for post in onto.FakeNewsPost.instances():\n",
    "    print(f\"FakeNewsPost: {post.has_title[0]}\")"
   ]
  },
  {
   "cell_type": "markdown",
   "id": "bf6764dd-4eb5-40c6-bca1-e7977d35d015",
   "metadata": {},
   "source": [
    "# Итерация 4"
   ]
  },
  {
   "cell_type": "markdown",
   "id": "4c50643c-d72a-45d3-9c6f-e832fdceb054",
   "metadata": {},
   "source": [
    "## Задание 15: Инверсивное отношение\n",
    "\n",
    "Создайте инверсивное объектное отношение  \"имеет авторство\" has_author для Post и User  отношению has_published.\n",
    "\n",
    "Примечание. Для указания, что отношение инверсивное другому отношению используйте свойство inverse_property. \n",
    "\n",
    "Например, \n",
    "\n",
    "```\n",
    "with onto:\n",
    "   class has_child(ObjectProperty):\n",
    "        domain = [Parent]\n",
    "        range = [Children]\n",
    "        inverse_property = has_parent\n",
    "```"
   ]
  },
  {
   "cell_type": "code",
   "execution_count": 20,
   "id": "85ca55fa-b009-404d-8eb9-f9b23a27254a",
   "metadata": {},
   "outputs": [],
   "source": [
    "with onto:\n",
    "    # Определяем инверсивное свойство has_author\n",
    "    class has_author(ObjectProperty):\n",
    "        domain = [Post]\n",
    "        range = [User]\n",
    "        inverse_property = has_published"
   ]
  },
  {
   "cell_type": "markdown",
   "id": "9c6edd67-fed8-4e07-a96e-7814a7f6e20a",
   "metadata": {},
   "source": [
    " ## Задание 15: Cоздайте концепт LegalCase - Судебное разбирательство\n",
    "\n",
    " Мы хотим выявить всех, кто \"строчит\" фейки.\n",
    " В онтологии это можно выразить с помощью правила, связывающего факт публикации фейковой новости с последствием — судебным разбирательством. \n",
    "\n",
    " Создайте класс LegalCase."
   ]
  },
  {
   "cell_type": "code",
   "execution_count": 21,
   "id": "4355cae4-652c-4608-b316-e70f014102a2",
   "metadata": {},
   "outputs": [],
   "source": [
    "with onto:\n",
    "    # Определяем класс LegalCase\n",
    "    class LegalCase(Thing):\n",
    "        pass"
   ]
  },
  {
   "cell_type": "markdown",
   "id": "989c4283-f203-4e92-a3f9-b3c29cd0b8a3",
   "metadata": {},
   "source": [
    " ## Задание 16: Добавим объектное свойство involved_in_case\n",
    "\n",
    " Добавим объектное свойство involved_in_case между классами User и LegalCase.\n"
   ]
  },
  {
   "cell_type": "code",
   "execution_count": 22,
   "id": "45e912fe-5290-4a37-b98e-14b0cb503037",
   "metadata": {},
   "outputs": [],
   "source": [
    "with onto:\n",
    "    # Определяем свойство involved_in_case\n",
    "    class involved_in_case(ObjectProperty):\n",
    "        domain = [User]\n",
    "        range = [LegalCase]"
   ]
  },
  {
   "cell_type": "markdown",
   "id": "b616b3e5-408b-4d19-9540-e797b64994ef",
   "metadata": {},
   "source": [
    "Примечание. Добавим правило: \n",
    "\n",
    "`если User публикует NewsPost с категорией FakeNews, то он участвует в LegalCase`\n",
    "\n",
    "Чтобы указать такое правило можно использовать синтаксис SWRL правил через Imp:\n",
    "\n",
    "```\n",
    "with onto:\n",
    "    rule = Imp(\"FakeNewsLegalImp\", namespace=onto)\n",
    "    rule.set_as_rule(\"\"\"\n",
    "        User(?u), Post(?p), hasAuthor(?p, ?u), has_category(?p, FakeNews) \n",
    "        -> involved_in_case(?u, ?case), LegalCase(?case)\n",
    "    \"\"\")\n",
    "\n",
    "```\n",
    "\n",
    "Данное правило мы можем загрузить, однако нам необходим ризонер, который позволяет выявлять на основе заданных правил новые знания. К примеру, если пользователь опубликовал пост с категорией FakeNews, то он автоматически (при инференции) будет связан с новым инстансом LegalCase.\n",
    "\n",
    "Правило SWRL, которое задано выше, не будет автоматически \"выполняться\" или выводить результаты в owlready2. Это связано с тем, что owlready2 не имеет встроенного механизма выполнения (reasoning) SWRL-правил — только их хранение и сериализация в OWL.\n",
    "\n",
    "Чтобы правило дало видимый результат, нужно запустить ризонер, но в Simba его установить не получится (проблема с Java). \n",
    "\n",
    "Поэтому нужно \"сэмулировать\" выполнение SWRL-правил вручную в Python. "
   ]
  },
  {
   "cell_type": "markdown",
   "id": "d77dac3e-aae3-4c7d-b57c-a043c3bf8737",
   "metadata": {},
   "source": [
    "## Задание 17: Реализуйте в ручную применение вышеописанной SWRL-логики\n",
    "\n",
    "Реализуйте проверку для всех пользователей:\n",
    "\n",
    "если User публикует NewsPost с категорией FakeNews, то он участвует в LegalCase (судебном разбирательстве)."
   ]
  },
  {
   "cell_type": "code",
   "execution_count": 23,
   "id": "5a2fd593-de6c-4652-b4a6-dbdcb0e96f03",
   "metadata": {},
   "outputs": [],
   "source": [
    "# Загружаем данные\n",
    "categories_df = pd.read_csv(\"Task_9.Onto/data/categories.csv\")\n",
    "publishes_df = pd.read_csv(\"Task_9.Onto/data/publishes.csv\")\n",
    "\n",
    "with onto:\n",
    "    # Применяем логику SWRL вручную\n",
    "    for index, row in categories_df.iterrows():\n",
    "        if row['category'] == 'FakeNews':\n",
    "            post_id = row['post_id']\n",
    "            # Находим пользователя, опубликовавшего этот пост\n",
    "            user_row = publishes_df[publishes_df['post_id'] == post_id]\n",
    "            if not user_row.empty:\n",
    "                user_id = user_row.iloc[0]['user_id']\n",
    "                user = onto[user_id]\n",
    "                # Создаем экземпляр LegalCase\n",
    "                legal_case = onto.LegalCase(f\"case_{post_id}\")\n",
    "                # Связываем пользователя с делом\n",
    "                user.involved_in_case.append(legal_case)"
   ]
  },
  {
   "cell_type": "markdown",
   "id": "16952f53-3f44-4bb0-ab4b-cb8aaae1e0b8",
   "metadata": {},
   "source": [
    "## Задание 18: Сохраните полученную онтологию \n",
    "\n",
    " Сохраните полученную онтологию, используя метод save(). Пример, \n",
    "\n",
    "```\n",
    " onto.save(file=\"onlogy.owl\", format=\"rdfxml\")\n",
    "\n",
    "```\n",
    "\n",
    "Откройте файл с онтологией, изучите вид представления данных.\n"
   ]
  },
  {
   "cell_type": "code",
   "execution_count": 24,
   "id": "682d929d-9e73-4407-81d9-555a7a5447c8",
   "metadata": {},
   "outputs": [],
   "source": [
    "# Сохраняем онтологию\n",
    "onto.save(file=\"ontology.owl\", format=\"rdfxml\")"
   ]
  },
  {
   "cell_type": "markdown",
   "id": "5e447fe3-0973-4a60-854a-354f2d65a7dc",
   "metadata": {},
   "source": [
    "## Задание 19: Отнологический граф\n",
    "\n",
    "Постройте онтологический граф для полученной онтологии. \n",
    "Важно, чтобы полученный граф был читаемый!"
   ]
  },
  {
   "cell_type": "code",
   "execution_count": 26,
   "id": "c5ee3660-935b-4278-9f3b-f436fe8b01dc",
   "metadata": {},
   "outputs": [
    {
     "name": "stdout",
     "output_type": "stream",
     "text": [
      "Граф сохранен в файл ontology_graph.png\n"
     ]
    }
   ],
   "source": [
    "from graphviz import Digraph\n",
    "\n",
    "# Создаем граф\n",
    "dot = Digraph(comment='Ontology Graph')\n",
    "dot.attr(rankdir='BT')  # Направление снизу вверх для лучшей читаемости\n",
    "\n",
    "# Добавляем классы\n",
    "for cls in onto.classes():\n",
    "    dot.node(cls.name, cls.name, shape='box')\n",
    "\n",
    "# Добавляем связи между классами (подклассы)\n",
    "for cls in onto.classes():\n",
    "    for parent in cls.is_a:\n",
    "        if isinstance(parent, Thing.__class__):\n",
    "            dot.edge(cls.name, parent.name, label='is_a')\n",
    "\n",
    "# Добавляем объектные свойства\n",
    "for prop in onto.object_properties():\n",
    "    domain = prop.domain[0].name if prop.domain else 'Thing'\n",
    "    range_ = prop.range[0].name if prop.range else 'Thing'\n",
    "    dot.edge(domain, range_, label=prop.name)\n",
    "\n",
    "# Сохраняем и отображаем граф\n",
    "dot.render('ontology_graph', format='png', cleanup=True)\n",
    "print(\"Граф сохранен в файл ontology_graph.png\")"
   ]
  },
  {
   "cell_type": "markdown",
   "id": "1867d73a-231a-4c1f-b90b-4a5fc701f574",
   "metadata": {},
   "source": [
    "##  Задание 20: Итерация 5\n",
    "\n",
    "Добавьте новую итерацию для полученной онтологии. В ней можно добавить новые классы, отношения, правила и т.д. \n",
    "\n",
    "Проверьте онтологию с новыми изменениями. \n"
   ]
  }
 ],
 "metadata": {
  "kernelspec": {
   "display_name": "Python 3 (ipykernel)",
   "language": "python",
   "name": "python3"
  },
  "language_info": {
   "codemirror_mode": {
    "name": "ipython",
    "version": 3
   },
   "file_extension": ".py",
   "mimetype": "text/x-python",
   "name": "python",
   "nbconvert_exporter": "python",
   "pygments_lexer": "ipython3",
   "version": "3.12.7"
  }
 },
 "nbformat": 4,
 "nbformat_minor": 5
}
