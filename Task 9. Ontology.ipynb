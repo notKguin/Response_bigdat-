{
 "cells": [
  {
   "cell_type": "markdown",
   "id": "595ca376-ea0c-4eda-9b64-d45464251f49",
   "metadata": {},
   "source": [
    "## Онтологическое моделирование. Социальная сеть"
   ]
  },
  {
   "cell_type": "markdown",
   "id": "48f0907f-28bf-4989-a86a-9871a630e79d",
   "metadata": {},
   "source": [
    "Теоретический материал по построению онтологии представлен в ноутбуке в папке Task_9. Into/Example ontology.ipynb\n",
    "\n",
    "\n",
    "Создадим онтологию для социальной сети. \n",
    "\n",
    "Представим, что мы постепенно собираем данные с некоторой социальной сети и добавляем их в онтологию. После каждого изменения, мы обязательно проверяем, что все работает.\n",
    "\n",
    "Вам не нужно собирать данные, все данные есть в папке Task_9. Onto/data:\n",
    "\n",
    "- users.csv: пользователи соцсети.\n",
    "- posts.csv: посты (контент) с заголовками.\n",
    "- categories.csv: тематические классы (Fact, Opinion, FakeNews, Meme и т.д.).\n",
    "- publishes.csv: кто опубликовал какой пост.\n",
    "\n",
    "\n",
    "Пример онтологии: ИИ в социальных сетях\n",
    "\n",
    "🧱 Классы:\n",
    "- User — пользователь соцсети.\n",
    "- Post — публикация.\n",
    "- Category — базовая категория контента.\n",
    "- FakeNews, Opinion, Fact, Meme, Educational — подклассы категорий.\n",
    "\n",
    "🔗 Свойства:\n",
    "- has_published(User → Post)\n",
    "- has_title(Post)\n",
    "- has_category(Post → Category)\n",
    "\n",
    "🧍 Примеры пользователей:\n",
    "- alice публикует clickbait_ai_news и openai_announces_gpt5\n",
    "- bob публикует ai_is_dangerous, funny_ai_cat, how_neural_networks_work\n",
    "\n",
    "📌 Категории контента:\n",
    "- clickbait_ai_news — FakeNews\n",
    "- ai_is_dangerous — Opinion\n",
    "- openai_announces_gpt5 — Fact\n",
    "- funny_ai_cat — Meme\n",
    "\n"
   ]
  },
  {
   "cell_type": "code",
   "execution_count": 1,
   "id": "2b42c453-9312-42ac-a393-2005ba773658",
   "metadata": {},
   "outputs": [
    {
     "name": "stdout",
     "output_type": "stream",
     "text": [
      "Collecting owlready2\n",
      "  Downloading owlready2-0.47.tar.gz (27.3 MB)\n",
      "\u001b[2K     \u001b[90m━━━━━━━━━━━━━━━━━━━━━━━━━━━━━━━━━━━━━━━━\u001b[0m \u001b[32m27.3/27.3 MB\u001b[0m \u001b[31m58.5 MB/s\u001b[0m eta \u001b[36m0:00:00\u001b[0ma \u001b[36m0:00:01\u001b[0m\n",
      "\u001b[?25h  Installing build dependencies ... \u001b[?25ldone\n",
      "\u001b[?25h  Getting requirements to build wheel ... \u001b[?25ldone\n",
      "\u001b[?25h  Preparing metadata (pyproject.toml) ... \u001b[?25ldone\n",
      "\u001b[?25hCollecting rdflib\n",
      "  Downloading rdflib-7.1.4-py3-none-any.whl.metadata (11 kB)\n",
      "Collecting SPARQLWrapper\n",
      "  Downloading SPARQLWrapper-2.0.0-py3-none-any.whl.metadata (2.0 kB)\n",
      "Requirement already satisfied: pyparsing<4,>=2.1.0 in /opt/conda/lib/python3.12/site-packages (from rdflib) (3.2.0)\n",
      "Downloading rdflib-7.1.4-py3-none-any.whl (565 kB)\n",
      "\u001b[2K   \u001b[90m━━━━━━━━━━━━━━━━━━━━━━━━━━━━━━━━━━━━━━━\u001b[0m \u001b[32m565.1/565.1 kB\u001b[0m \u001b[31m533.9 MB/s\u001b[0m eta \u001b[36m0:00:00\u001b[0m\n",
      "\u001b[?25hDownloading SPARQLWrapper-2.0.0-py3-none-any.whl (28 kB)\n",
      "Building wheels for collected packages: owlready2\n",
      "  Building wheel for owlready2 (pyproject.toml) ... \u001b[?25ldone\n",
      "\u001b[?25h  Created wheel for owlready2: filename=owlready2-0.47-cp312-cp312-linux_x86_64.whl size=23874703 sha256=75b7401367383184c03022fdce1944fae2134ad4fe4834279bf9bfbd52729b21\n",
      "  Stored in directory: /tmp/pip-ephem-wheel-cache-evmxl23h/wheels/a8/81/8a/f76909ab0a8a17ce3735a6b9501344c545be5098d54b66adfc\n",
      "Successfully built owlready2\n",
      "Installing collected packages: rdflib, owlready2, SPARQLWrapper\n",
      "Successfully installed SPARQLWrapper-2.0.0 owlready2-0.47 rdflib-7.1.4\n",
      "\n",
      "\u001b[1m[\u001b[0m\u001b[34;49mnotice\u001b[0m\u001b[1;39;49m]\u001b[0m\u001b[39;49m A new release of pip is available: \u001b[0m\u001b[31;49m25.0\u001b[0m\u001b[39;49m -> \u001b[0m\u001b[32;49m25.1\u001b[0m\n",
      "\u001b[1m[\u001b[0m\u001b[34;49mnotice\u001b[0m\u001b[1;39;49m]\u001b[0m\u001b[39;49m To update, run: \u001b[0m\u001b[32;49mpip install --upgrade pip\u001b[0m\n"
     ]
    }
   ],
   "source": [
    "# Установка необходимых библиотек\n",
    "!pip install --no-cache-dir owlready2 rdflib SPARQLWrapper"
   ]
  },
  {
   "cell_type": "code",
   "execution_count": 2,
   "id": "690f23a5-9664-41c7-97f0-0ce54e1eec8e",
   "metadata": {},
   "outputs": [],
   "source": [
    "from owlready2 import *\n",
    "import pandas as pd\n",
    "\n",
    "\n",
    "# Загружаем данные из CSV файлов\n",
    "users_df = pd.read_csv(\"Task_9.Onto/data/users.csv\")\n",
    "posts_df = pd.read_csv(\"Task_9.Onto/data/posts.csv\")\n",
    "categories_df = pd.read_csv(\"Task_9.Onto/data/categories.csv\")\n",
    "publishes_df = pd.read_csv(\"Task_9.Onto/data/publishes.csv\")\n"
   ]
  },
  {
   "cell_type": "code",
   "execution_count": 3,
   "id": "27db9252-40c4-41a7-bf30-0bd6c4101ef0",
   "metadata": {},
   "outputs": [],
   "source": [
    "# users_df"
   ]
  },
  {
   "cell_type": "code",
   "execution_count": 4,
   "id": "3b2cabb9-b093-4291-bc99-e6b2ee39b569",
   "metadata": {},
   "outputs": [],
   "source": [
    "# posts_df "
   ]
  },
  {
   "cell_type": "markdown",
   "id": "2fe03662-ff9b-4fd5-a8a5-3ca42615e8a7",
   "metadata": {},
   "source": [
    "# Итерация 1"
   ]
  },
  {
   "cell_type": "markdown",
   "id": "6f259b31-66c6-430b-b09a-5f15bac27b13",
   "metadata": {},
   "source": [
    "## Задание 1: Создайте онтологию для двух классов\n",
    "\n",
    "Для создания концептов используйте файлы: \n",
    "- posts.csv (содержит: id, title) -> класс Post\n",
    "- users.csv (содержит: id, name) -> класс User\n",
    "\n",
    "Для создания отношений используйте файл publishers.csv (содержит: user_id, post_id — кто опубликовал пост):\n",
    "- объектное свойство \"опубликовал\" (has_published) между User и Post\n",
    "- для Post свойство-значение \"имеет заголовок\" (has_title) строкового типа\n",
    "- для User свойство-значение \"имеет имя\" (has_name) строкового типа"
   ]
  },
  {
   "cell_type": "code",
   "execution_count": 5,
   "id": "19624c3f-156a-4549-8dbe-6a95732bbae8",
   "metadata": {},
   "outputs": [],
   "source": [
    "onto = get_ontology(\"http://example.org/social_ai.owl\")\n"
   ]
  },
  {
   "cell_type": "code",
   "execution_count": 58,
   "id": "fc347799-075a-4864-99c5-e85c185b2355",
   "metadata": {},
   "outputs": [],
   "source": [
    "# здесь ваш код\n"
   ]
  },
  {
   "cell_type": "markdown",
   "id": "315ab93a-5234-4c9c-9465-795a320bc680",
   "metadata": {},
   "source": [
    "## Задание 2: Создайте экземпляры пользователей\n",
    "Создайте всех пользователей на основе User из набора данных users_df.\n",
    "\n",
    "Передайте доступные свойства для экземпляров. "
   ]
  },
  {
   "cell_type": "code",
   "execution_count": 59,
   "id": "37b1911c-3fce-4f79-8995-80b5a8b2f9eb",
   "metadata": {},
   "outputs": [],
   "source": [
    "# здесь ваш код"
   ]
  },
  {
   "cell_type": "markdown",
   "id": "db1ba0d4-e18f-493d-87b8-b0758f9ef0a8",
   "metadata": {},
   "source": [
    "## Задание 3: Создайте экземпляры постов\n",
    "Создайте все посты на основе Post из набора данных posts_df.\n",
    "\n",
    "Передайте доступные свойства для экземпляров. "
   ]
  },
  {
   "cell_type": "code",
   "execution_count": 60,
   "id": "a211de5c-4f49-4808-b47e-a1d06859cc85",
   "metadata": {},
   "outputs": [],
   "source": [
    "# здесь ваш код"
   ]
  },
  {
   "cell_type": "markdown",
   "id": "94f736b5-e28d-4de2-8372-3c1a7e5e5a03",
   "metadata": {},
   "source": [
    "## Задание 4: Создайте связи с помощью отношения  has_published между пользователями и постами"
   ]
  },
  {
   "cell_type": "code",
   "execution_count": 61,
   "id": "cd92d6fa-ce24-4a38-9bb5-82f73a72c297",
   "metadata": {},
   "outputs": [],
   "source": [
    "# здесь ваш код"
   ]
  },
  {
   "cell_type": "markdown",
   "id": "ad6fcbf8-6d7e-4755-9844-0608168d0d00",
   "metadata": {},
   "source": [
    "## Задание 5: Проверка онтологии\n",
    "\n",
    "Проверьте все ли работает. Выведите для каждого пользователя название опубликованного  им поста. "
   ]
  },
  {
   "cell_type": "code",
   "execution_count": 62,
   "id": "c4557642-fbac-405e-ae7a-3836dbc2facc",
   "metadata": {},
   "outputs": [],
   "source": [
    "# здесь ваш код\n"
   ]
  },
  {
   "cell_type": "markdown",
   "id": "59379c9e-4c09-4d6b-acbb-b16794482fa3",
   "metadata": {},
   "source": [
    "# Итерация 2"
   ]
  },
  {
   "cell_type": "markdown",
   "id": "96c6cdeb-ed1e-4627-980a-74342c0bf44d",
   "metadata": {},
   "source": [
    "## Задание 6: Добавьте новый концепт в существующую онтологию\n",
    "\n",
    "Добавьте класс Category в уже существующую онтологию"
   ]
  },
  {
   "cell_type": "code",
   "execution_count": 63,
   "id": "9f21db9f-a097-40be-884c-77bc7bf6678a",
   "metadata": {},
   "outputs": [],
   "source": [
    "# здесь ваш код"
   ]
  },
  {
   "cell_type": "markdown",
   "id": "d8f0dcef-1ba8-44f5-adc1-a31165bd8f86",
   "metadata": {},
   "source": [
    "## Задание 7: Добавьте свойства и связи\n",
    "\n",
    "После добавления класса Category добавьте объектное свойство has_category для связи постов с категориями."
   ]
  },
  {
   "cell_type": "code",
   "execution_count": 64,
   "id": "56c73634-2b94-4856-bea7-f5e542137c4c",
   "metadata": {},
   "outputs": [],
   "source": [
    "# здесь ваш код"
   ]
  },
  {
   "cell_type": "markdown",
   "id": "46ed74a1-14a3-44a0-bdc0-2882340d1a3a",
   "metadata": {},
   "source": [
    "## Задание 8: Создайте экземпляры категорий \n",
    "\n",
    "Создайте экземпляяры категорий и реализуйте связь между постами и категориями"
   ]
  },
  {
   "cell_type": "code",
   "execution_count": 13,
   "id": "7f5bb403-5be2-4bf8-b5c3-167e5263fad1",
   "metadata": {},
   "outputs": [],
   "source": [
    "# здесь ваш код"
   ]
  },
  {
   "cell_type": "code",
   "execution_count": 65,
   "id": "886b0949-6acb-46cc-a91c-f380aac1d0bb",
   "metadata": {},
   "outputs": [],
   "source": [
    "# здесь ваш код"
   ]
  },
  {
   "cell_type": "markdown",
   "id": "be8769d7-1709-49c8-a9c5-4bdd3dfb2bc0",
   "metadata": {},
   "source": [
    "## Задание 9: Проверка онтологии\n",
    "\n",
    "Проверьте все ли работает. Выведите для каждого пользователя название опубликованного  им поста с указанием к какой катеригории этот пост относится.\n",
    "Примечание. Для каждого поста должна быть выведена только одна категория, без повторов"
   ]
  },
  {
   "cell_type": "code",
   "execution_count": 66,
   "id": "27af6d66-bae1-4445-ab99-5ec569ca63f4",
   "metadata": {},
   "outputs": [],
   "source": [
    "# здесь ваш код"
   ]
  },
  {
   "cell_type": "markdown",
   "id": "f1b1c262-2ffa-4633-aab8-871e22d89eb2",
   "metadata": {},
   "source": [
    "## Задание 10: Создание аксиомы\n",
    "\n",
    "Для данной онтологии, которая представляет посты пользователей в социальных сетях, можно добавить аксиому, которая будет утверждать, что <b>\"Каждый пост, опубликованный пользователем, имеет хотя бы одну категорию\"</b>. Это гарантирует, что все посты будут связаны с какой-то категорией.\n",
    "\n",
    "Чтобы выразить это в OWL-формате, можно создать аксиому, которая будет связывать посты с категорией через свойство has_category. Также необходимо избегать повторов. "
   ]
  },
  {
   "cell_type": "code",
   "execution_count": 67,
   "id": "274c1c47-308b-4f8b-94d3-eeb1f1e73dcc",
   "metadata": {},
   "outputs": [],
   "source": [
    "# здесь ваш код"
   ]
  },
  {
   "cell_type": "markdown",
   "id": "64f02fff-dfb3-4742-ae75-e2411e74bcaf",
   "metadata": {},
   "source": [
    "## Задание 11: Проверка онтологии\n",
    "\n",
    "Проверьте, что аксиома работает -> для каждого поста проверяется, что он имеет категорию и выводится название самой категории. "
   ]
  },
  {
   "cell_type": "code",
   "execution_count": 68,
   "id": "dc208374-f68d-4cf1-b5c6-912bac669f57",
   "metadata": {},
   "outputs": [],
   "source": [
    "# здесь ваш код"
   ]
  },
  {
   "cell_type": "markdown",
   "id": "64bab531-5026-42cf-8164-eec1eacf6c92",
   "metadata": {},
   "source": [
    "# Итерация 3"
   ]
  },
  {
   "cell_type": "markdown",
   "id": "7f9af69f-3db9-45f3-8f43-ed887d47728c",
   "metadata": {},
   "source": [
    "## Задание 12: Создание подкласса для FakeNews\n",
    "\n",
    "Создайте потомка FakeNewsPost для класса Post"
   ]
  },
  {
   "cell_type": "code",
   "execution_count": 69,
   "id": "aed07424-f92f-45e4-a030-b0a17e4fdb57",
   "metadata": {},
   "outputs": [],
   "source": [
    "# здесь ваш код"
   ]
  },
  {
   "cell_type": "markdown",
   "id": "5559fbfe-b24a-4a2a-bb37-bbff0fd270b1",
   "metadata": {},
   "source": [
    "## Задание 13: Применение подкласса к постам с категорией 'FakeNews'\n",
    "\n",
    "Если категория поста - 'FakeNews', то сделайте его экземпляром FakeNewsPost"
   ]
  },
  {
   "cell_type": "code",
   "execution_count": 27,
   "id": "e6a36180-bc99-4719-b990-42312d2e35c6",
   "metadata": {},
   "outputs": [],
   "source": [
    "# здесь ваш код"
   ]
  },
  {
   "cell_type": "markdown",
   "id": "678ced13-8328-46fb-84dd-a1f5d693300e",
   "metadata": {},
   "source": [
    "## Задание 14: Проверка онтологии\n",
    "\n",
    "Выполните проверку -  есть ли посты типа FakeNewsPost, если есть, то выведите их названия (title)\n"
   ]
  },
  {
   "cell_type": "code",
   "execution_count": 70,
   "id": "dbc6f135-2165-46a5-af11-337afea1397f",
   "metadata": {},
   "outputs": [],
   "source": [
    "# здесь ваш код"
   ]
  },
  {
   "cell_type": "markdown",
   "id": "bf6764dd-4eb5-40c6-bca1-e7977d35d015",
   "metadata": {},
   "source": [
    "# Итерация 4"
   ]
  },
  {
   "cell_type": "markdown",
   "id": "4c50643c-d72a-45d3-9c6f-e832fdceb054",
   "metadata": {},
   "source": [
    "## Задание 15: Инверсивное отношение\n",
    "\n",
    "Создайте инверсивное объектное отношение  \"имеет авторство\" has_author для Post и User  отношению has_published.\n",
    "\n",
    "Примечание. Для указания, что отношение инверсивное другому отношению используйте свойство inverse_property. \n",
    "\n",
    "Например, \n",
    "\n",
    "```\n",
    "with onto:\n",
    "   class has_child(ObjectProperty):\n",
    "        domain = [Parent]\n",
    "        range = [Children]\n",
    "        inverse_property = has_parent\n",
    "```"
   ]
  },
  {
   "cell_type": "code",
   "execution_count": 71,
   "id": "85ca55fa-b009-404d-8eb9-f9b23a27254a",
   "metadata": {},
   "outputs": [],
   "source": [
    "# здесь ваш код"
   ]
  },
  {
   "cell_type": "markdown",
   "id": "9c6edd67-fed8-4e07-a96e-7814a7f6e20a",
   "metadata": {},
   "source": [
    " ## Задание 15: Cоздайте концепт LegalCase - Судебное разбирательство\n",
    "\n",
    " Мы хотим выявить всех, кто \"строчит\" фейки.\n",
    " В онтологии это можно выразить с помощью правила, связывающего факт публикации фейковой новости с последствием — судебным разбирательством. \n",
    "\n",
    " Создайте класс LegalCase."
   ]
  },
  {
   "cell_type": "code",
   "execution_count": 72,
   "id": "4355cae4-652c-4608-b316-e70f014102a2",
   "metadata": {},
   "outputs": [],
   "source": [
    "# здесь ваш код"
   ]
  },
  {
   "cell_type": "markdown",
   "id": "989c4283-f203-4e92-a3f9-b3c29cd0b8a3",
   "metadata": {},
   "source": [
    " ## Задание 16: Добавим объектное свойство involved_in_case\n",
    "\n",
    " Добавим объектное свойство involved_in_case между классами User и LegalCase.\n"
   ]
  },
  {
   "cell_type": "code",
   "execution_count": 73,
   "id": "45e912fe-5290-4a37-b98e-14b0cb503037",
   "metadata": {},
   "outputs": [],
   "source": [
    "# здесь ваш код"
   ]
  },
  {
   "cell_type": "markdown",
   "id": "b616b3e5-408b-4d19-9540-e797b64994ef",
   "metadata": {},
   "source": [
    "Примечание. Добавим правило: \n",
    "\n",
    "`если User публикует NewsPost с категорией FakeNews, то он участвует в LegalCase`\n",
    "\n",
    "Чтобы указать такое правило можно использовать синтаксис SWRL правил через Imp:\n",
    "\n",
    "```\n",
    "with onto:\n",
    "    rule = Imp(\"FakeNewsLegalImp\", namespace=onto)\n",
    "    rule.set_as_rule(\"\"\"\n",
    "        User(?u), Post(?p), hasAuthor(?p, ?u), has_category(?p, FakeNews) \n",
    "        -> involved_in_case(?u, ?case), LegalCase(?case)\n",
    "    \"\"\")\n",
    "\n",
    "```\n",
    "\n",
    "Данное правило мы можем загрузить, однако нам необходим ризонер, который позволяет выявлять на основе заданных правил новые знания. К примеру, если пользователь опубликовал пост с категорией FakeNews, то он автоматически (при инференции) будет связан с новым инстансом LegalCase.\n",
    "\n",
    "Правило SWRL, которое задано выше, не будет автоматически \"выполняться\" или выводить результаты в owlready2. Это связано с тем, что owlready2 не имеет встроенного механизма выполнения (reasoning) SWRL-правил — только их хранение и сериализация в OWL.\n",
    "\n",
    "Чтобы правило дало видимый результат, нужно запустить ризонер, но в Simba его установить не получится (проблема с Java). \n",
    "\n",
    "Поэтому нужно \"сэмулировать\" выполнение SWRL-правил вручную в Python. "
   ]
  },
  {
   "cell_type": "markdown",
   "id": "d77dac3e-aae3-4c7d-b57c-a043c3bf8737",
   "metadata": {},
   "source": [
    "## Задание 17: Реализуйте в ручную применение вышеописанной SWRL-логики\n",
    "\n",
    "Реализуйте проверку для всех пользователей:\n",
    "\n",
    "если User публикует NewsPost с категорией FakeNews, то он участвует в LegalCase (судебном разбирательстве)."
   ]
  },
  {
   "cell_type": "code",
   "execution_count": 74,
   "id": "5a2fd593-de6c-4652-b4a6-dbdcb0e96f03",
   "metadata": {},
   "outputs": [],
   "source": [
    "# здесь ваш код\n"
   ]
  },
  {
   "cell_type": "markdown",
   "id": "16952f53-3f44-4bb0-ab4b-cb8aaae1e0b8",
   "metadata": {},
   "source": [
    "## Задание 18: Сохраните полученную онтологию \n",
    "\n",
    " Сохраните полученную онтологию, используя метод save(). Пример, \n",
    "\n",
    "```\n",
    " onto.save(file=\"onlogy.owl\", format=\"rdfxml\")\n",
    "\n",
    "```\n",
    "\n",
    "Откройте файл с онтологией, изучите вид представления данных.\n"
   ]
  },
  {
   "cell_type": "code",
   "execution_count": 75,
   "id": "682d929d-9e73-4407-81d9-555a7a5447c8",
   "metadata": {},
   "outputs": [],
   "source": [
    "# здесь ваш код"
   ]
  },
  {
   "cell_type": "markdown",
   "id": "5e447fe3-0973-4a60-854a-354f2d65a7dc",
   "metadata": {},
   "source": [
    "## Задание 19: Отнологический граф\n",
    "\n",
    "Постройте онтологический граф для полученной онтологии. \n",
    "Важно, чтобы полученный граф был читаемый!"
   ]
  },
  {
   "cell_type": "markdown",
   "id": "1867d73a-231a-4c1f-b90b-4a5fc701f574",
   "metadata": {},
   "source": [
    "##  Задание 20: Итерация 5\n",
    "\n",
    "Добавьте новую итерацию для полученной онтологии. В ней можно добавить новые классы, отношения, правила и т.д. \n",
    "\n",
    "Проверьте онтологию с новыми изменениями. \n"
   ]
  }
 ],
 "metadata": {
  "kernelspec": {
   "display_name": "Python 3 (ipykernel)",
   "language": "python",
   "name": "python3"
  },
  "language_info": {
   "codemirror_mode": {
    "name": "ipython",
    "version": 3
   },
   "file_extension": ".py",
   "mimetype": "text/x-python",
   "name": "python",
   "nbconvert_exporter": "python",
   "pygments_lexer": "ipython3",
   "version": "3.12.7"
  }
 },
 "nbformat": 4,
 "nbformat_minor": 5
}
